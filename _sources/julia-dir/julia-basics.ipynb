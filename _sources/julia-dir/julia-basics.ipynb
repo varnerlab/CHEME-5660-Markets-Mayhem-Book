{
 "cells": [
  {
   "cell_type": "markdown",
   "id": "33606997",
   "metadata": {},
   "source": [
    "# Introduction to Julia Basics\n",
    "\n",
    "## Introduction\n",
    "[Julia](https://julialang.org) is a dynamically typed compiled programming language developed at [MIT](https://julia.mit.edu) for general purpose computing. [Julia](https://julialang.org) has a number of interesting features, and is an [open source project available under the MIT license](https://github.com/JuliaLang/julia). \n",
    "\n",
    "In this chapter, we will introduce some of the key features of [Julia](https://julialang.org):\n",
    "\n",
    "* {ref}`content:references:julia-repl`\n",
    "* {ref}`content:references:types-functions-md`\n",
    "* {ref}`content:references:julia-programs`\n",
    "* {ref}`content:references:julia-basics-using-external-packages`\n",
    "---\n",
    "\n",
    "(content:references:julia-repl)=\n",
    "## The Julia REPL\n",
    "You interact with [Julia](https://julialang.org) through the [Read Evaluate Print Loop (REPL)](https://docs.julialang.org/en/v1/stdlib/REPL/). The [REPL](https://docs.julialang.org/en/v1/stdlib/REPL/) allows for quick and easy evaluation of [Julia](https://julialang.org) commands; it has a searchable history, tab-completion, many helpful keybindings, and dedicated help and shell modes. The REPL can be started by launching Julia from the [Terminal on macOS](https://support.apple.com/guide/terminal/open-or-quit-terminal-apd5265185d-f365-44cb-8b09-71a064a42125/mac) or [by installing Windows Subsystem for Linux and launching Julia from an xterm](https://docs.microsoft.com/en-us/windows/wsl/install), or by double-clicking on the [Julia](https://julialang.org) executable, or finally by starting [Julia](https://julialang.org) from the command line in the [terminal of VSCode](https://code.visualstudio.com/docs/terminal/basics).\n",
    "\n",
    "Once the [REPL](https://docs.julialang.org/en/v1/stdlib/REPL/) is started, there are __four__ possible modes that it can be in: \n",
    "\n",
    "* [Julian mode](https://docs.julialang.org/en/v1/stdlib/REPL/#The-Julian-mode): Default mode where commands and expressions are evaluated.\n",
    "* [Help mode](https://docs.julialang.org/en/v1/stdlib/REPL/#Help-mode): Launches the Julia ``help system mode`` where users can view documenation about functions or other Julia features.\n",
    "* [Shell mode](https://docs.julialang.org/en/v1/stdlib/REPL/#man-shell-mode): Launches the ``shell mode`` which allows users to interact with the operating system shell. For Windows users, Julia's shell mode does not expose windows shell commands.\n",
    "* [Package mode](https://docs.julialang.org/en/v1/stdlib/REPL/#Pkg-mode): Launches the [Julia package manager](https://docs.julialang.org/en/v1/stdlib/Pkg/) which allows users to add or delete external packages. \n",
    "\n",
    "Let's go through each of these modes. \n",
    "\n",
    "### Julian mode\n",
    "The [Julian REPL mode](https://docs.julialang.org/en/v1/stdlib/REPL/#The-Julian-mode) is the default mode of operation; each new line initially starts with the ``julia>`` prompt. [Julia](https://julialang.org) commands are entered at the prompt and the results are printed to the screen; hitting return or enter after a complete expression has been entered at the prompt will evaluate the entry and show the result of the last expression. \n",
    "\n",
    "```{figure} ./figs/Fig-Julian-mode-terminal.png\n",
    "---\n",
    "height: 460px\n",
    "name: fig-julian-mode-terminal\n",
    "---\n",
    "The [Julian REPL mode](https://docs.julialang.org/en/v1/stdlib/REPL/#The-Julian-mode) in the [Terminal on macOS](https://support.apple.com/guide/terminal/open-or-quit-terminal-apd5265185d-f365-44cb-8b09-71a064a42125/mac).\n",
    "```\n",
    "\n",
    "{numref}`fig-julian-mode-terminal` shows a case where we enter values for two variables `x` and `y`and compute the result of `x + 2y`.\n",
    "\n",
    "### Help mode\n",
    "Users enter the [help mode](https://docs.julialang.org/en/v1/stdlib/REPL/#Help-mode) by typing a ``?`` character at the prompt. Once in the [help mode](https://docs.julialang.org/en/v1/stdlib/REPL/#Help-mode), which is indicated by the ``help?>`` prompt, users can type a command they have a question about (or use ``TAB`` for a list of autcomplete possibilities), hit enter and the documentation for that command is displayed.\n",
    "\n",
    "\n",
    "```{figure} ./figs/Fig-Help-mode-terminal.png\n",
    "---\n",
    "height: 460px\n",
    "name: fig-help-mode-terminal\n",
    "---\n",
    "The [help mode](https://docs.julialang.org/en/v1/stdlib/REPL/#Help-mode) in the [Terminal on macOS](https://support.apple.com/guide/terminal/open-or-quit-terminal-apd5265185d-f365-44cb-8b09-71a064a42125/mac).\n",
    "```\n",
    "\n",
    "{numref}`fig-help-mode-terminal` shows the documentation for the `varinfo` command; `varinfo` returns a markdown table with information about exported global variables in a module, which (optionally) can be restricted to those matching `pattern`. \n",
    "\n",
    "If no search command is entered at the ``help?>`` prompt, the user can exit [help mode](https://docs.julialang.org/en/v1/stdlib/REPL/#Help-mode) by typing the `backspace` key (which is the `delete` key on macOS).\n",
    "\n",
    "### Shell mode\n",
    "The [shell mode](https://docs.julialang.org/en/v1/stdlib/REPL/#man-shell-mode) is an advanced mode that allows the user to drop down to the [operating system shell](https://en.wikipedia.org/wiki/Shell_(computing)) i.e., a program that exposes an operating system's services and resources to a user (or other programs). \n",
    "\n",
    "Users enter the [shell mode](https://docs.julialang.org/en/v1/stdlib/REPL/#man-shell-mode) by typing the ``;`` character at the Julia prompt. Once in [shell mode](https://docs.julialang.org/en/v1/stdlib/REPL/#man-shell-mode), which is indicated by the ``shell>`` prompt, shell commands can be entered and the results displayed. \n",
    "\n",
    "\n",
    "```{figure} ./figs/Fig-Shell-mode-terminal.png\n",
    "---\n",
    "height: 560px\n",
    "name: fig-shell-mode-terminal\n",
    "---\n",
    "The [shell mode](https://docs.julialang.org/en/v1/stdlib/REPL/#man-shell-mode) in the [Terminal on macOS](https://support.apple.com/guide/terminal/open-or-quit-terminal-apd5265185d-f365-44cb-8b09-71a064a42125/mac).\n",
    "```\n",
    "\n",
    "{numref}`fig-shell-mode-terminal` shows the results of the `ls -al` shell command; `ls -al` returns a list of file and directory names in long format for the current directory (my home directory on macOS). To exit [shell mode](https://docs.julialang.org/en/v1/stdlib/REPL/#man-shell-mode), a user types the `backspace` key (which is the `delete` key on macOS).\n",
    "\n",
    "A list of basic [Unix shell commands can be found here](https://swcarpentry.github.io/shell-novice/reference.html).\n",
    "\n",
    "(content:references:julia-repl-pkg-mode)=\n",
    "### Package mode\n",
    "The [package mode](https://docs.julialang.org/en/v1/stdlib/REPL/#Pkg-mode) allows the user to add, delete or update external [Julia](https://julialang.org) packages. A user enters [package mode](https://docs.julialang.org/en/v1/stdlib/REPL/#Pkg-mode) by hitting the ``]`` key which brings up the [package mode](https://docs.julialang.org/en/v1/stdlib/REPL/#Pkg-mode) prompt ``pkg>``. At this prompt, users can manage the packages that are installed globally, or in the local project environment.\n",
    "\n",
    "```{figure} ./figs/Fig-pkg-mode-terminal.png\n",
    "---\n",
    "height: 560px\n",
    "name: fig-pkg-mode-terminal\n",
    "---\n",
    "The [package mode](https://docs.julialang.org/en/v1/stdlib/REPL/#Pkg-mode) in the [Terminal on macOS](https://support.apple.com/guide/terminal/open-or-quit-terminal-apd5265185d-f365-44cb-8b09-71a064a42125/mac).\n",
    "```\n",
    "\n",
    "The results of the ``add Distributions`` command, which installs the [Distributions.jl](https://github.com/JuliaStats/Distributions.jl) package into the ``local_example_project`` project environment is shown in {numref}`fig-pkg-mode-terminal`. In addition to adding packages, users can update package versions globally or in the local project environment using the ``up`` command; packages can also be deleted using the ``rm <package>`` command. A full list of \n",
    "commands for managing packages in [package mode](https://docs.julialang.org/en/v1/stdlib/REPL/#Pkg-mode) can be found [here](https://pkgdocs.julialang.org/v1/managing-packages/#**3.**-Managing-Packages). \n",
    "\n",
    "To exit [package mode](https://docs.julialang.org/en/v1/stdlib/REPL/#Pkg-mode), a user types the `backspace` key (the `delete` key on macOS).\n",
    "\n",
    "Loading installed packages into the [REPL](https://docs.julialang.org/en/v1/stdlib/REPL/) (or your program) is done with the [using](https://docs.julialang.org/en/v1/base/base/#using) or [import](https://docs.julialang.org/en/v1/base/base/#import) functions; we discuss what these functions do, and the differences between them, in the {ref}`content:references:julia-basics-using-external-packages` section. \n",
    "\n",
    "(content:references:types-functions-md)=\n",
    "## Julia types, functions and syntax\n",
    "Julia is a just-in-time compiled language (which gives it a runtime advantage over other popular interpreted languages). However, unlike other languages such as `C`, Julia code is compiled when you run it; a separate compile step is unnecessary. Thus, Julia gives the convenience and performance of a compiled language without the burden of manual compilation. \n",
    "\n",
    "Further, Julia is a dynamically-typed language. This means you are not required to declare the type of variables before you use them. Instead, when your Julia code is compiled, the compiler uses sophisticated logic to infer, i.e., guess your data types. However, users can also specify types, potentially lessening the compiler’s burden. Further, many users find codes with the types annotated to be easier to read and maintain; remember, you may be supporting codes for _decades_, thus, making them easy to understand is critical.\n",
    "\n",
    "### Variable types\n",
    "Variables are values that you tell your computer to associate with a specific name so that you can later recover or change their values.  Variables can be of different types; [Julia](https://julialang.org) has an extensive [type system](https://docs.julialang.org/en/v1/manual/types/). However, in this course we will primarily use [floating point numbers](https://docs.julialang.org/en/v1/manual/integers-and-floating-point-numbers/#Floating-Point-Numbers), [integers](https://docs.julialang.org/en/v1/manual/integers-and-floating-point-numbers/#Integers) and [Strings](https://docs.julialang.org/en/v1/manual/strings/).\n",
    "\n",
    "In [Julia](https://julialang.org), we do not have to declare a variable name or specify the variable type as in other languages such as `C`; we can just set the variable, and the compiler will figure out the rest. For example, suppose we wanted to store a floating point value (of type `Float64`) in the variable `x`:"
   ]
  },
  {
   "cell_type": "code",
   "execution_count": 1,
   "id": "9e30162c",
   "metadata": {},
   "outputs": [
    {
     "data": {
      "text/plain": [
       "Float64"
      ]
     },
     "execution_count": 1,
     "metadata": {},
     "output_type": "execute_result"
    }
   ],
   "source": [
    "# Set the value for the variable x\n",
    "x = 3.1;\n",
    "\n",
    "# typeof prints the type of the arg passed in\n",
    "typeof(x)"
   ]
  },
  {
   "cell_type": "markdown",
   "id": "5d9c8f08",
   "metadata": {},
   "source": [
    "or store an integer (type `Int64`):"
   ]
  },
  {
   "cell_type": "code",
   "execution_count": 2,
   "id": "a18abb89",
   "metadata": {},
   "outputs": [
    {
     "data": {
      "text/plain": [
       "Int64"
      ]
     },
     "execution_count": 2,
     "metadata": {},
     "output_type": "execute_result"
    }
   ],
   "source": [
    "# Set the value for the variable x\n",
    "x = 1;\n",
    "\n",
    "# typeof prints the type of the arg passed in\n",
    "typeof(x)"
   ]
  },
  {
   "cell_type": "markdown",
   "id": "d18791e3",
   "metadata": {},
   "source": [
    "or a String:"
   ]
  },
  {
   "cell_type": "code",
   "execution_count": 3,
   "id": "bacc77e5",
   "metadata": {},
   "outputs": [
    {
     "data": {
      "text/plain": [
       "String"
      ]
     },
     "execution_count": 3,
     "metadata": {},
     "output_type": "execute_result"
    }
   ],
   "source": [
    "# Set the value for the variable x\n",
    "x = \"HelloWorld\";\n",
    "\n",
    "# typeof prints the type of the arg passed in\n",
    "typeof(x)"
   ]
  },
  {
   "cell_type": "markdown",
   "id": "22388384",
   "metadata": {},
   "source": [
    "However, in some cases we may want to specify the type of a variable by using the `::` annotation, e.g., when composing the list of input arguments or the type of data returned from a function, or the type of items that are stored in a collection of items.\n",
    "\n",
    "### Collections and Data Structures\n",
    "There are several [Collections and Data Structures](https://docs.julialang.org/en/v1/base/collections/#Collections-and-Data-Structures) that come with [Julia](https://julialang.org), for example [Arrays](https://docs.julialang.org/en/v1/base/arrays/#Core.Array-Tuple{UndefInitializer,%20Any}), [Tuples](https://docs.julialang.org/en/v1/manual/functions/#Tuples), [Dictionaries](https://docs.julialang.org/en/v1/base/collections/#Base.Dict) and [Sets](https://docs.julialang.org/en/v1/base/collections/#Base.Set). \n",
    "\n",
    "In addition to the built-in collection types, a particularly useful data structure is called a [DataFrame](https://dataframes.juliadata.org/stable/) which is provided by the [DataFrames.jl](https://github.com/JuliaData/DataFrames.jl) package. We'll discuss [DataFrames](https://dataframes.juliadata.org/stable/) in the [Working with Data chapter](./julia-data.md).\n",
    "\n",
    "#### Arrays\n",
    "[Arrays](https://docs.julialang.org/en/v1/base/arrays/#lib-arrays) are collections that hold ordered lists of items of the same type (typcially). Arrays can be initialized empty (and filled with an arbitraty number of elements) or the number of elements of an Array can be specified when the Array is initialized. \n",
    "\n",
    "For example, this code block initializes an empty array of Float64 types:"
   ]
  },
  {
   "cell_type": "code",
   "execution_count": 4,
   "id": "4e0d4d41",
   "metadata": {},
   "outputs": [
    {
     "data": {
      "text/plain": [
       "(Vector{Float64}, 0)"
      ]
     },
     "execution_count": 4,
     "metadata": {},
     "output_type": "execute_result"
    }
   ],
   "source": [
    "# initialize an empty array of Floats -\n",
    "x = Array{Float64,1}()\n",
    "\n",
    "# typeof: prints the type of the arg passed in \n",
    "# length: returns number of elements in a 1d Array\n",
    "typeof(x), length(x)"
   ]
  },
  {
   "cell_type": "markdown",
   "id": "43705d30",
   "metadata": {},
   "source": [
    "To add elements to an array that has no length, use the `push!` command:"
   ]
  },
  {
   "cell_type": "code",
   "execution_count": 5,
   "id": "e178d866",
   "metadata": {},
   "outputs": [
    {
     "name": "stdout",
     "output_type": "stream",
     "text": [
      "x = [1.32, 6.54]\n"
     ]
    }
   ],
   "source": [
    "# initialize an empty array of Floats -\n",
    "x = Array{Float64,1}()\n",
    "\n",
    "# add a Float64 -\n",
    "push!(x,1.32)\n",
    "push!(x,6.54)\n",
    "\n",
    "# show the array x -\n",
    "@show x;"
   ]
  },
  {
   "cell_type": "markdown",
   "id": "21500f0b",
   "metadata": {},
   "source": [
    "Alternatively, we can specify the type and number of elements that we need:"
   ]
  },
  {
   "cell_type": "code",
   "execution_count": 6,
   "id": "20d6aa2a",
   "metadata": {},
   "outputs": [
    {
     "data": {
      "text/plain": [
       "(Vector{Float64}, 100)"
      ]
     },
     "execution_count": 6,
     "metadata": {},
     "output_type": "execute_result"
    }
   ],
   "source": [
    "# initialize an array of Float64 with 100 elements\n",
    "# initially each element of the array is of type undef (undefined)\n",
    "x = Array{Float64,1}(undef,100)\n",
    "\n",
    "# typeof: prints the type of the arg passed in \n",
    "# length: returns number of elements in a 1d Array\n",
    "typeof(x), length(x)"
   ]
  },
  {
   "cell_type": "markdown",
   "id": "77e3aab3",
   "metadata": {},
   "source": [
    "To add elements to an Array with specified dimensions, we can use the Array indexes; the first index is the row number, while the second is the column number of a two-dimensional Array. For example, this code block initializes a 2 x 2 matrix (a two-dimensional array), fills the matrix with ones, and then updates the 1,2-element with a random value:"
   ]
  },
  {
   "cell_type": "code",
   "execution_count": 7,
   "id": "f8ab8ea7",
   "metadata": {},
   "outputs": [
    {
     "name": "stdout",
     "output_type": "stream",
     "text": [
      "A = [1.0 0.38902024526198353; 1.0 1.0]\n"
     ]
    }
   ],
   "source": [
    "# initialize a 2 x 2 array A \n",
    "A = Array{Float64,2}(undef,2,2)\n",
    "\n",
    "# fill A with 1's\n",
    "fill!(A, 1.0)\n",
    "\n",
    "# update the 1,2 element with a random value -\n",
    "A[1,2] = rand()\n",
    "\n",
    "# show A -\n",
    "@show A;"
   ]
  },
  {
   "cell_type": "markdown",
   "id": "328cd90a",
   "metadata": {},
   "source": [
    "Please read through the [Array documentation](https://docs.julialang.org/en/v1/base/arrays/#lib-arrays) for a detailed discussion of the properties of Arrays and [the various functions that can operate on Arrays](https://docs.julialang.org/en/v1/base/arrays/#Basic-functions).\n",
    "\n",
    "(content:references:julia-basics-tuples)=\n",
    "#### Tuples\n",
    "Julia has a built-in data structure called a [tuple](https://docs.julialang.org/en/v1/manual/functions/#Tuples); a [tuple](https://docs.julialang.org/en/v1/manual/functions/#Tuples) is a fixed-length container that can hold a mixture of values of any type, but cannot be modified i.e., it is immutable once the values have been added to the [tuple](https://docs.julialang.org/en/v1/manual/functions/#Tuples). In other words, [tuples](https://docs.julialang.org/en/v1/manual/functions/#Tuples); a [tuple](https://docs.julialang.org/en/v1/manual/functions/#Tuples) are read-only once constructed. [Tuples](https://docs.julialang.org/en/v1/manual/functions/#Tuples) are constructed with commas and parentheses, and can be accessed via indexing:"
   ]
  },
  {
   "cell_type": "code",
   "execution_count": 8,
   "id": "9983d4f8",
   "metadata": {},
   "outputs": [
    {
     "name": "stdout",
     "output_type": "stream",
     "text": [
      "x[2] = \"hello\"\n"
     ]
    }
   ],
   "source": [
    "# initialize a tuple of stuff -\n",
    "x = (0.0, \"hello\", 6*7)\n",
    "\n",
    "# what is held in index 2?\n",
    "@show x[2];"
   ]
  },
  {
   "cell_type": "markdown",
   "id": "daca9ad3",
   "metadata": {},
   "source": [
    "Further, you can optionally give the values held in a tuple a name; these types of data structures are called [NamedTuples](https://docs.julialang.org/en/v1/manual/functions/#Named-Tuples)."
   ]
  },
  {
   "cell_type": "code",
   "execution_count": 9,
   "id": "d4164c9c",
   "metadata": {},
   "outputs": [
    {
     "name": "stdout",
     "output_type": "stream",
     "text": [
      "x.firstname = \"Fred\"\n"
     ]
    }
   ],
   "source": [
    "# initialize a named tuple of stuff -\n",
    "x = (firstname=\"Fred\", lastname=\"Rogers\")\n",
    "\n",
    "# what is the first name?\n",
    "@show x.firstname;"
   ]
  },
  {
   "cell_type": "markdown",
   "id": "f60df134",
   "metadata": {},
   "source": [
    "You can access the values stored in a [NamedTuple](https://docs.julialang.org/en/v1/manual/functions/#Named-Tuples) using `dot notation` (as shown above). However, because a [NamedTuple](https://docs.julialang.org/en/v1/manual/functions/#Named-Tuples) is just a fancy [Tuple](https://docs.julialang.org/en/v1/manual/functions/#Tuples), you can also access data through indexing:"
   ]
  },
  {
   "cell_type": "code",
   "execution_count": 10,
   "id": "6dd93775",
   "metadata": {},
   "outputs": [
    {
     "name": "stdout",
     "output_type": "stream",
     "text": [
      "x[1] = \"Fred\"\n"
     ]
    }
   ],
   "source": [
    "# initialize a named tuple of stuff -\n",
    "x = (firstname=\"Fred\", lastname=\"Rogers\")\n",
    "\n",
    "# what is the first name?\n",
    "@show x[1];"
   ]
  },
  {
   "cell_type": "markdown",
   "id": "af7761b9",
   "metadata": {},
   "source": [
    "#### Dictionaries\n",
    "One the most useful built-in data structures in Julia is the [Dictionary](https://docs.julialang.org/en/v1/base/collections/#Dictionaries); [Dictionaries](https://docs.julialang.org/en/v1/base/collections/#Dictionaries) allow the user to store `key => value` pairs, where the (key, value) pairs can be anytype. \n",
    "\n",
    "There are several ways to create [Dictionaries](https://docs.julialang.org/en/v1/base/collections/#Dictionaries) in Julia. For example, [Dicts](https://docs.julialang.org/en/v1/base/collections/#Base.Dict) can be created by passing pair objects constructed with the `=>` operator to a [Dict](https://docs.julialang.org/en/v1/base/collections/#Base.Dict) constructor:"
   ]
  },
  {
   "cell_type": "code",
   "execution_count": 11,
   "id": "a6f1b174",
   "metadata": {},
   "outputs": [
    {
     "name": "stdout",
     "output_type": "stream",
     "text": [
      "d = Dict(\"B\" => 2, \"A\" => 1)\n"
     ]
    }
   ],
   "source": [
    "# build a Dict -\n",
    "d = Dict(\"A\"=>1, \"B\"=>2)\n",
    "\n",
    "@show d;"
   ]
  },
  {
   "cell_type": "markdown",
   "id": "5fc484d0",
   "metadata": {},
   "source": [
    "This call attempts to infer type information stored in the dictionary from the keys and values, i.e. this example creates a Dict{String, Int64}. However, you can also explicitly specify the types of the `key => value` pairs by initializing the constructor with type information `Dict{KeyType,ValueType}(...)`:"
   ]
  },
  {
   "cell_type": "code",
   "execution_count": 12,
   "id": "7889d6a6",
   "metadata": {},
   "outputs": [
    {
     "name": "stdout",
     "output_type": "stream",
     "text": [
      "typeof(d) = Dict{String, Int32}\n"
     ]
    }
   ],
   "source": [
    "# build a Dict -\n",
    "d = Dict{String,Int32}(\"A\"=>1, \"B\"=>2)\n",
    "\n",
    "@show typeof(d);"
   ]
  },
  {
   "cell_type": "markdown",
   "id": "346cd864",
   "metadata": {},
   "source": [
    "Given a dictionary `D`, the syntax `D[x]` returns the value stored in `D` with key `x` (if key `x` exists) or throws an error. On the other hand, a statement like `D[x] = y` stores the key-value pair `x => y` in `D` (replacing any existing value for the key `x`). Multiple arguments to `D[...]` are converted to [tuples](https://docs.julialang.org/en/v1/manual/functions/#Tuples); for example, the syntax `D[x,y]` is equivalent to `D[(x,y)]`, i.e. it refers to the value with a key equal to the tuple (x,y).\n",
    "\n",
    "[Dictionaries](https://docs.julialang.org/en/v1/base/collections/#Dictionaries) have fast data lookup, insertion, and deletion. Thus, they are ideal for in-memory storage of all kinds of data. However, [Dictionaries](https://docs.julialang.org/en/v1/base/collections/#Dictionaries) do not maintain order, i.e., the keys in [Dictionary](https://docs.julialang.org/en/v1/base/collections/#Dictionaries) are not ordered. Thus, if the order of data is important then a [Dictionary](https://docs.julialang.org/en/v1/base/collections/#Dictionaries) may not by an appropriate data structure.\n",
    "Further, [Dictionaries](https://docs.julialang.org/en/v1/base/collections/#Dictionaries) by default are mutable, i.e., they can be changed after they are constructed; this is a good thing most of the time, but care should be taken to regulate changes to dictionaries. \n",
    "\n",
    "For use cases where data should not be changed, i.e., configuration data or other such applications, an immutable dictionary can be created, see [ImmutableDict](https://docs.julialang.org/en/v1/base/collections/#Base.ImmutableDict).\n",
    "\n",
    "There are many methods for working with [Dictionaries](https://docs.julialang.org/en/v1/base/collections/#Dictionaries), check out the [Julia documentation](https://docs.julialang.org/en/v1/base/collections/#Base.haskey).\n",
    "\n",
    "#### Sets\n",
    "[Sets](https://docs.julialang.org/en/v1/base/collections/#Base.Set), like arrays, hold a mutable collection of objects. However, unlike an array, the items in a [Set](https://docs.julialang.org/en/v1/base/collections/#Base.Set) must be unqiue. Further, [Sets](https://docs.julialang.org/en/v1/base/collections/#Base.Set) do not maintain order. Thus, a useful mental model for a [Set](https://docs.julialang.org/en/v1/base/collections/#Base.Set) is a sack of unique objects. \n",
    "\n",
    "[Sets](https://docs.julialang.org/en/v1/base/collections/#Base.Set) are constructured by passing an interable collection of items into the constructor:"
   ]
  },
  {
   "cell_type": "code",
   "execution_count": 13,
   "id": "fc4553fc",
   "metadata": {},
   "outputs": [
    {
     "name": "stdout",
     "output_type": "stream",
     "text": [
      "S = Set([5, 4, 3, 1])\n"
     ]
    }
   ],
   "source": [
    "# build a set S (notice the brackets)\n",
    "# We are adding repeated elements, we have two 3's what is going to happen?\n",
    "S = Set([1, 3, 4, 5, 3]);\n",
    "\n",
    "@show S;"
   ]
  },
  {
   "cell_type": "markdown",
   "id": "ee8ec678",
   "metadata": {},
   "source": [
    "When adding objects to a set, if the object is already present, any repeated objects will not be added. [Sets](https://docs.julialang.org/en/v1/base/collections/#Base.Set) can also be initialized empty, then items added using the `push!` function:"
   ]
  },
  {
   "cell_type": "code",
   "execution_count": 14,
   "id": "8e26dabd",
   "metadata": {},
   "outputs": [
    {
     "name": "stdout",
     "output_type": "stream",
     "text": [
      "S = Set([5, 3, 1])\n"
     ]
    }
   ],
   "source": [
    "# build an empty set of type Int\n",
    "S = Set{Int}();\n",
    "\n",
    "# add some items to the set S -\n",
    "push!(S,1);\n",
    "push!(S,3);\n",
    "push!(S,5);\n",
    "push!(S,1); # repeat: will not get added to S\n",
    "\n",
    "# show the set -\n",
    "@show S;"
   ]
  },
  {
   "cell_type": "markdown",
   "id": "8e317be9",
   "metadata": {},
   "source": [
    "However, unlike arrays, [sets](https://docs.julialang.org/en/v1/base/collections/#Base.Set) can not be indexed, i.e., there is not an order hence no indexes. Thus, to retrieve an item from a [set](https://docs.julialang.org/en/v1/base/collections/#Base.Set) use the [pop!](https://docs.julialang.org/en/v1/base/collections/#Base.pop!) function which removes a _random_ element from the [set](https://docs.julialang.org/en/v1/base/collections/#Base.Set)."
   ]
  },
  {
   "cell_type": "code",
   "execution_count": 15,
   "id": "c30df955",
   "metadata": {},
   "outputs": [
    {
     "name": "stdout",
     "output_type": "stream",
     "text": [
      "Output 1: Set S = Set([2, 1])\n",
      "Output 2: what value of x did we get = 2\n",
      "S = Set([1])\n"
     ]
    }
   ],
   "source": [
    "# build a set S -\n",
    "S = Set([1,2])\n",
    "println(\"Output 1: Set S = $(S)\")\n",
    "\n",
    "# remove element -\n",
    "x = pop!(S)\n",
    "println(\"Output 2: what value of x did we get = $(x)\")\n",
    "\n",
    "# show the S -\n",
    "@show S;"
   ]
  },
  {
   "cell_type": "markdown",
   "id": "541f7ee8",
   "metadata": {},
   "source": [
    "Many functions that work with other collection types, e.g., the [length](https://docs.julialang.org/en/v1/base/arrays/#Base.length-Tuple{AbstractArray}) function for arrays, have an equilvent implementation for [sets](https://docs.julialang.org/en/v1/base/collections/#Base.Set):"
   ]
  },
  {
   "cell_type": "code",
   "execution_count": 16,
   "id": "d079c679",
   "metadata": {},
   "outputs": [
    {
     "name": "stdout",
     "output_type": "stream",
     "text": [
      "The number of elements of set S = 5\n"
     ]
    }
   ],
   "source": [
    "# another way to build a set - array comprehension\n",
    "S = Set{Int}([2i for i = 1:5])\n",
    "\n",
    "# how many elements?\n",
    "println(\"The number of elements of set S = $(length(S))\")"
   ]
  },
  {
   "cell_type": "markdown",
   "id": "b29b2bd6",
   "metadata": {},
   "source": [
    "Finally, there are several set-specific concepts, [which are useful in the context of probability](../chapter-2-dir/probability-random-variables.md), that have been implemented in Julia. For example, the [intersection](https://en.wikipedia.org/wiki/Intersection_(set_theory)) or [union](https://en.wikipedia.org/wiki/Union_(set_theory)) of sets is encoded in the [intersect](https://docs.julialang.org/en/v1/base/collections/#Base.intersect) and [union](https://docs.julialang.org/en/v1/base/collections/#Base.union) functions.\n",
    "\n",
    "### Program Control Flow\n",
    "Julia provides several tools for [program control flow](https://docs.julialang.org/en/v1/manual/control-flow/#Control-Flow) and [repeated evaluation](https://docs.julialang.org/en/v1/manual/control-flow/#man-loops); let's review a few important examples: `if` statements, `while` loops and `for` loops.\n",
    "\n",
    "#### If-else-end statements\n",
    "A common task is to do something if a condition is true, or something else if the condition is false.\n",
    "This task is accomplished with the `if-elseif-else-end` pattern:\n",
    "\n",
    "```{code-block} julia\n",
    "if x < y\n",
    "    code block-1\n",
    "elseif x > y\n",
    "    code block-2\n",
    "else\n",
    "    code block-3\n",
    "end\n",
    "```\n",
    "\n",
    "In the code snippet above, if the conditional expression `x < y` evaluates to `true`, then `code block-1` is executed; otherwise the conditional expression `x > y` is evaluated, and if it evaluates to `true`, the `code block-2` is executed; if neither expression is `true`, the else `code block-3` is executed. Let's see this in action:"
   ]
  },
  {
   "cell_type": "code",
   "execution_count": 17,
   "id": "7a9556d1",
   "metadata": {},
   "outputs": [
    {
     "name": "stdout",
     "output_type": "stream",
     "text": [
      "x is less than y\n"
     ]
    }
   ],
   "source": [
    "# initialize x and y -\n",
    "x = 10.0\n",
    "y = 12.0\n",
    "\n",
    "if x < y\n",
    "    println(\"x is less than y\")\n",
    "elseif x > y\n",
    "    println(\"x is greater than y\")\n",
    "else\n",
    "    println(\"x is equal to y\")\n",
    "end"
   ]
  },
  {
   "cell_type": "markdown",
   "id": "6cf530f3",
   "metadata": {},
   "source": [
    "The `elseif` and `else` blocks are optional. Further, as many `elseif` blocks as needed can be used. The conditional expressions in the `if-elseif-else-end` construct are evaluated until the first `true`, then no further conditional expressions (or code blocks) are evaluated. Thus, if we only have one condition to check, e.g., `x < y` then we can omit the `elseif` condition:"
   ]
  },
  {
   "cell_type": "code",
   "execution_count": 18,
   "id": "5c351f3f",
   "metadata": {},
   "outputs": [
    {
     "name": "stdout",
     "output_type": "stream",
     "text": [
      "x is greater than or equal to y\n"
     ]
    }
   ],
   "source": [
    "# initialize x and y -\n",
    "x = 16.0\n",
    "y = 2.0\n",
    "\n",
    "if x < y\n",
    "    println(\"x is less than y\")\n",
    "else\n",
    "    println(\"x is greater than or equal to y\")\n",
    "end"
   ]
  },
  {
   "cell_type": "markdown",
   "id": "510f003e",
   "metadata": {},
   "source": [
    "Finally, we may have more multiple statements (or even function calls) in the conditional checks. Suppose we had two complicated conditions that need to be checked to make a decision; perhaps these conditions are computed using two expensive function calls. Let these conditions be `a` and `b`.\n",
    "\n",
    "Logical checks can be chained together with the `&&` and ``||`` operators in [Julia](https://julialang.org); these operators correspond to logical `and` and `or` operations, respectively. Thus, these operators can check [logical and](https://en.wikipedia.org/wiki/Logical_conjunction), or [logical or](https://en.wikipedia.org/wiki/Logical_disjunction) conditions. They also have the additional property of short-circuit evaluation: they don't necessarily evaluate their second argument:\n",
    "\n",
    "* In the [logical and expression](https://en.wikipedia.org/wiki/Logical_conjunction) ``a && b``, the subexpression `b` is only evaluated if `a` evaluates to `true`. \n",
    "\n",
    "* In the [logical or expression](https://en.wikipedia.org/wiki/Logical_disjunction) ``a || b``, the subexpression `b` is only evaluated if `a` evaluates to  `false`. \n",
    "\n",
    "#### While loops\n",
    "A `while` loop consists of a control statement and a body:\n",
    "\n",
    "```{code-block} julia\n",
    "while statement == true\n",
    "  body\n",
    "end\n",
    "```\n",
    "\n",
    "In a `while` loop, a control statement is evaluated, and as long as the control statement remains true, the code in the body of the `while` loop is executed. For example:"
   ]
  },
  {
   "cell_type": "code",
   "execution_count": 19,
   "id": "443cb71e",
   "metadata": {},
   "outputs": [
    {
     "name": "stdout",
     "output_type": "stream",
     "text": [
      "Counter = 1, remaining = 4\n",
      "Counter = 2, remaining = 3\n",
      "Counter = 3, remaining = 2\n",
      "Counter = 4, remaining = 1\n",
      "Counter = 5, remaining = 0\n"
     ]
    }
   ],
   "source": [
    "# declarations -\n",
    "counter = 1       # loop counter, we start at 1\n",
    "const limit = 5   # how many times do we want to go around?\n",
    "\n",
    "# main loop -\n",
    "while (counter <= limit)\n",
    "\n",
    "  # body to execute (for now, print info about the counter) -\n",
    "  delta = limit - counter; # how many more times around?\n",
    "  println(\"Counter = $(counter), remaining = $(delta)\")\n",
    "\n",
    "  # update the counter value -\n",
    "  global counter = counter + 1\n",
    "end"
   ]
  },
  {
   "cell_type": "markdown",
   "id": "ae67dd0f",
   "metadata": {},
   "source": [
    "In this example, the `while` loop continues to execute as long the statement $\\text{counter}\\leq\\text{limit}$ evaluates to `true`. However, the value of $\\text{counter}$ is updated each pass through the loop. Thus, when the value of $\\text{counter} = 6$, the control statement fails (evaluates to `false`) and the loop stops.\n",
    "\n",
    "If the control statement evaluates to `false` when the `while` loop is first reached, the body of the `while` statement is never evaluated. \n",
    "\n",
    "#### For loops\n",
    "The `for` loop makes repeated evaluation of a code block easier to write; since counting like the `while` loop is such a common programming task, it can be expressed more concisely with a `for` loop:\n",
    "\n",
    "```{code-block} julia\n",
    "for range\n",
    "  body\n",
    "end\n",
    "```\n",
    "\n",
    "where `range` represent the list of items to iterate over. For example, we can re-write the `while` loop shown above as a the `for` loop:"
   ]
  },
  {
   "cell_type": "code",
   "execution_count": 20,
   "id": "ef4b6082",
   "metadata": {},
   "outputs": [
    {
     "name": "stdout",
     "output_type": "stream",
     "text": [
      "index i = 1, remaining = 4\n",
      "index i = 2, remaining = 3\n",
      "index i = 3, remaining = 2\n",
      "index i = 4, remaining = 1\n",
      "index i = 5, remaining = 0\n"
     ]
    }
   ],
   "source": [
    "# declarations -\n",
    "const limit = 5   # how many times do we want to go around?\n",
    "\n",
    "# main loop -\n",
    "for i = 1:limit\n",
    "\n",
    "  # body that is executed (for now, print info about the index) -\n",
    "  delta = limit - i; # how many more times around?\n",
    "  println(\"index i = $(i), remaining = $(delta)\")\n",
    "\n",
    "end"
   ]
  },
  {
   "cell_type": "markdown",
   "id": "9d05530c",
   "metadata": {},
   "source": [
    "where the 1:limit is a [range object](https://docs.julialang.org/en/v1/base/math/#Base.range), which in this case represents the sequence of numbers $1,2,\\dots,\\text{limit}$. The `for` loop iterates through these values, assigning each one to the loop index variable $i$. \n",
    "\n",
    "One important difference between the `while` loop example and the equivlant `for` loop form is the scope in which variables are visible. If the loop index variable $i$ has not been introduced previously in another scope, in the `for` loop form, it is visible only inside of the `for` loop, and not outside/afterwards. For more information on variable score, see the [scope of variables documentation](https://docs.julialang.org/en/v1/manual/variables-and-scoping/#scope-of-variables).\n",
    "\n",
    "### Functions\n",
    "In [Julia](https://julialang.org), a function is an object that maps a [tuple](https://docs.julialang.org/en/v1/manual/functions/#Tuples) of argument values to a return value. Unlike pure mathematical functions, [Julia](https://julialang.org) functions can alter their arguments and change the global state of the program. The basic syntax for defining functions in [Julia](https://julialang.org) is:"
   ]
  },
  {
   "cell_type": "code",
   "execution_count": 21,
   "id": "51a913fa",
   "metadata": {},
   "outputs": [
    {
     "name": "stdout",
     "output_type": "stream",
     "text": [
      "Value from the add function: 5.0\n"
     ]
    }
   ],
   "source": [
    "# declare the add function -\n",
    "function add(x::Float64, y::Float64)::Float64\n",
    "  return (x+y)\n",
    "end\n",
    "\n",
    "# compute the sum of two numbers -\n",
    "value_1 = add(3.0, 2.0);\n",
    "\n",
    "# print the resulting value -\n",
    "println(\"Value from the add function: $(value_1)\")"
   ]
  },
  {
   "cell_type": "markdown",
   "id": "fbed874b",
   "metadata": {},
   "source": [
    "The `add` function accepts two arguments `x` and `y` (both of type `Float64`) and returns the sum (also of type `Float64`). Notice that when we declared the `add` function, we specified the types of the arguments and the return type using the `::` operator. \n",
    "\n",
    "Thus, if we pass in arguments that are not of the correct type, an error will occur:"
   ]
  },
  {
   "cell_type": "code",
   "execution_count": 22,
   "id": "b3d2fadc",
   "metadata": {},
   "outputs": [
    {
     "name": "stdout",
     "output_type": "stream",
     "text": [
      "MethodError: no method matching add(::Float64, ::String)\n",
      "Closest candidates are:\n",
      "  add(::Float64, !Matched::Float64) at In[22]:2\n",
      "Stacktrace:\n",
      "  [1] backtrace()\n",
      "    @ Base ./error.jl:114\n",
      "  [2] top-level scope\n",
      "    @ In[22]:16\n",
      "  [3] eval\n",
      "    @ ./boot.jl:368 [inlined]\n",
      "  [4] include_string(mapexpr::typeof(REPL.softscope), mod::Module, code::String, filename::String)\n",
      "    @ Base ./loading.jl:1428\n",
      "  [5] softscope_include_string(m::Module, code::String, filename::String)\n",
      "    @ SoftGlobalScope ~/.julia/packages/SoftGlobalScope/u4UzH/src/SoftGlobalScope.jl:65\n",
      "  [6] execute_request(socket::ZMQ.Socket, msg::IJulia.Msg)\n",
      "    @ IJulia ~/.julia/packages/IJulia/AQu2H/src/execute_request.jl:67\n",
      "  [7] #invokelatest#2\n",
      "    @ ./essentials.jl:729 [inlined]\n",
      "  [8] invokelatest\n",
      "    @ ./essentials.jl:726 [inlined]\n",
      "  [9] eventloop(socket::ZMQ.Socket)\n",
      "    @ IJulia ~/.julia/packages/IJulia/AQu2H/src/eventloop.jl:8\n",
      " [10] (::IJulia.var\"#15#18\")()\n",
      "    @ IJulia ./task.jl:484\n"
     ]
    }
   ],
   "source": [
    "# declare the add function -\n",
    "function add(x::Float64, y::Float64)::Float64\n",
    "  return (x+y)\n",
    "end\n",
    "\n",
    "try \n",
    "  \n",
    "  # compute the sum of two numbers -\n",
    "  value_1 = add(3.0, \"Two\");\n",
    "\n",
    "  # print the resulting value -\n",
    "  println(\"Value from the add function: $(value_1)\")\n",
    "\n",
    "catch error\n",
    "  \n",
    "  bt = backtrace()\n",
    "  msg = sprint(showerror, error, bt)\n",
    "  println(msg)\n",
    "end"
   ]
  },
  {
   "cell_type": "markdown",
   "id": "c70dd580",
   "metadata": {},
   "source": [
    "[Julia](https://julialang.org) function arguments follow the pass-by-sharing convention, i.e., values are __not__ copied when they are passed to functions. Instead, function arguments act as new variable bindings (new locations that can refer to values), but the values they refer to are identical to the passed values. \n",
    "\n",
    "#### Multiple dispatch and generics\n",
    "In the example above, the `add` function takes arguments of type `Float64`, but what if we want to sum arguments of type `Int64` or some other numerical format such as `Float32` (which is popular in the machine learning community), or a combination of these arguments? \n",
    "\n",
    "[Julia](https://julialang.org) approaches this problem using a technique called [multiple dispatch](https://en.wikipedia.org/wiki/Multiple_dispatch). In particular, program developers can write different versions of the `add` function that accept different argument types; these different `add` versions are called [methods](https://docs.julialang.org/en/v1/manual/methods/#Methods). At runtime, [Julia](https://julialang.org) dynamically determines which [method](https://docs.julialang.org/en/v1/manual/methods/#Methods) to call based upon the argument types. For example:"
   ]
  },
  {
   "cell_type": "code",
   "execution_count": 23,
   "id": "95814821",
   "metadata": {},
   "outputs": [
    {
     "name": "stdout",
     "output_type": "stream",
     "text": [
      "Values from the add methods: value_1 = 5.0, value_2 = 8\n"
     ]
    }
   ],
   "source": [
    "# declare the add function that works on Float64\n",
    "function add(x::Float64, y::Float64)::Float64\n",
    "  return (x+y)\n",
    "end\n",
    "\n",
    "# declare the add function that works on Int64\n",
    "function add(x::Int64, y::Int64)::Int64\n",
    "  return (x+y)\n",
    "end\n",
    "\n",
    "# Julia determines which version of add to call\n",
    "value_1 = add(3.0, 2.0);\n",
    "value_2 = add(2,6)\n",
    "\n",
    "# print the resulting value -\n",
    "println(\"Values from the add methods: value_1 = $(value_1), value_2 = $(value_2)\")"
   ]
  },
  {
   "cell_type": "markdown",
   "id": "9ba15558",
   "metadata": {},
   "source": [
    "In this case, the correct version of `add` is called based on the type of arguments. However, writing different `add` methods for each argument type (or combination of argument types) would be a burden. \n",
    "\n",
    "Toward this challenge, [Julia](https://julialang.org) has [parametric methods](https://docs.julialang.org/en/v1/manual/methods/#Parametric-Methods) in which the argument type itself is variable. In particular, instead of specifying the specific argument type, e.g., `Float64` or `Int64`, we declare rules that generate a set of permissible types that we expect the function can operate on. For example, the parametric `add` function:\n",
    "\n",
    "```{code-block} julia\n",
    "function add(x::T1, y::T2)::Number where {T1, T2 <: Number} \n",
    "  return (x+y)\n",
    "end\n",
    "```\n",
    "\n",
    "specifies that the argument types `T1` and `T2` are a [subtype](https://docs.julialang.org/en/v1/devdocs/reflection/#Subtypes) (defined using the `<:` operator) of [Number](https://docs.julialang.org/en/v1/base/numbers/#Core.Number), the supertype for all numbers in [Julia](https://julialang.org); thus, we expect the parametric `add` function to work on _any_ combination of real and complex numbers. This is possible because the `+` operator that appears in the `add` function is itself a function with 206 methods (which can be listed using the [methods](https://docs.julialang.org/en/v1/base/base/#Base.methods) function)."
   ]
  },
  {
   "cell_type": "code",
   "execution_count": 24,
   "id": "23b85405",
   "metadata": {},
   "outputs": [
    {
     "name": "stdout",
     "output_type": "stream",
     "text": [
      "Values from the add methods: value_1 = 5.0, value_2 = 8\n"
     ]
    }
   ],
   "source": [
    "# declare the add function -\n",
    "function add(x::T1, y::T2)::Number where {T1, T2 <: Number} \n",
    "  return (x+y)\n",
    "end\n",
    "\n",
    "# Julia determines which version of add to call\n",
    "value_1 = add(3.0, 2);\n",
    "value_2 = add(2,6)\n",
    "\n",
    "# print the resulting values -\n",
    "println(\"Values from the add methods: value_1 = $(value_1), value_2 = $(value_2)\")"
   ]
  },
  {
   "cell_type": "markdown",
   "id": "e5138f41",
   "metadata": {},
   "source": [
    "(content:references:julia-programs)=\n",
    "## Writing and Executing Julia Programs\n",
    "Julia programs are files with the extension ``.jl``. To load a Julia program contained in ``Program.jl``, the user executes the [include](https://docs.julialang.org/en/v1/manual/code-loading/) command in the [REPL](https://docs.julialang.org/en/v1/stdlib/REPL/) where the path to ``Program.jl`` is passed in as an argument of type ``String`` to the [include](https://docs.julialang.org/en/v1/manual/code-loading/) command. \n",
    "\n",
    "```{code-block} julia\n",
    "julia> include(\"Program.jl\")\n",
    "```\n",
    "\n",
    "The code block above loads the code contained in the ``Program.jl`` file into the [REPL](https://docs.julialang.org/en/v1/stdlib/REPL/). If ``Program.jl`` is an _executable script_ then ``Program.jl`` will be executed, otherwise, the variables, data structures and functions encoded in ``Program.jl`` will be loaded into the memory of the [REPL](https://docs.julialang.org/en/v1/stdlib/REPL/). To make ``Program.jl`` executable, a `main` method is called (which in turn can load data, call other functions, etc):\n",
    "\n",
    "```{code-block} julia\n",
    "\n",
    "function example()\n",
    "\n",
    "    # stuff happens here\n",
    "    # ...\n",
    "end\n",
    "\n",
    "function main()\n",
    "    \n",
    "    # load data \n",
    "    # ...\n",
    "\n",
    "    # call other functions -\n",
    "    example()\n",
    "\n",
    "end\n",
    "\n",
    "# call main method\n",
    "main()\n",
    "```\n",
    "\n",
    "For example, consider the following executable script:"
   ]
  },
  {
   "cell_type": "code",
   "execution_count": 25,
   "id": "f487f53d",
   "metadata": {},
   "outputs": [
    {
     "name": "stdout",
     "output_type": "stream",
     "text": [
      "A message from inside the main method ...\n",
      "A message from inside the example method ... \n"
     ]
    }
   ],
   "source": [
    "function example()\n",
    "\n",
    "    # stuff happens here\n",
    "    println(\"A message from inside the example method ... \")\n",
    "end\n",
    "\n",
    "function main()\n",
    "    \n",
    "    # print a message -\n",
    "    println(\"A message from inside the main method ...\")\n",
    "\n",
    "    # call other functions -\n",
    "    example()\n",
    "end\n",
    "\n",
    "# call the main method -\n",
    "main()"
   ]
  },
  {
   "cell_type": "markdown",
   "id": "2dc9c17f",
   "metadata": {},
   "source": [
    "The `example` method is loaded into the [REPL](https://docs.julialang.org/en/v1/stdlib/REPL/) memory before the `main` method (code is parsed by [Julia](https://julialang.org) from top to bottom of the file) but `example` is _not_ executed until is called from the `main` method. \n",
    "\n",
    "(content:references:julia-basics-using-external-packages)=\n",
    "## Using external packages\n",
    "External packages in [Julia](https://julialang.org) are organized as [Modules](https://docs.julialang.org/en/v1/manual/modules/); the basic structure of a module is given by:\n",
    "\n",
    "```{code-block} julia\n",
    "\n",
    "module SomeModule\n",
    "\n",
    "# export, using, import statements are usually here; we discuss these below\n",
    "\n",
    "include(\"file1.jl\")\n",
    "include(\"file2.jl\")\n",
    "\n",
    "end\n",
    "\n",
    "```\n",
    "\n",
    "Thus, [modules](https://docs.julialang.org/en/v1/manual/modules/) in [Julia](https://julialang.org) are just containers that organize functions, and perhaps [user defined types](https://docs.julialang.org/en/v1/manual/types/#Composite-Types) or other data, into a unit. While constructing your own [modules](https://docs.julialang.org/en/v1/manual/modules/) is not difficult, it's beyond the scope of this introduction. For more information on building (and registering) your own [modules](https://docs.julialang.org/en/v1/manual/modules/), please consult the [Julia documentation](https://docs.julialang.org/en/v1/). \n",
    "\n",
    "Let's assume that you have used the {ref}`content:references:julia-repl-pkg-mode` to install some external [Julia](https://julialang.org) package called `Foo.jl`. To use that package in your `Program.jl` (or in the [REPL](https://docs.julialang.org/en/v1/stdlib/REPL/)) you'll need to load `Foo.jl` module into memory. There are two ways to do that, the [using](https://docs.julialang.org/en/v1/base/base/#using) or [import](https://docs.julialang.org/en/v1/base/base/#import) functions.\n",
    "\n",
    "* The [using](https://docs.julialang.org/en/v1/base/base/#using) function will load the `Foo` package and make its [exported names](https://docs.julialang.org/en/v1/base/base/#export) available for _direct_ use, i.e., the functions and data contained in the package that are visible are loaded directly into memory for the users of the package. However, names can also be accessed via dot syntax (e.g., Foo.foo to access the name foo), whether exported or not.\n",
    "\n",
    "* The [import](https://docs.julialang.org/en/v1/base/base/#import) function is similar to [using](https://docs.julialang.org/en/v1/base/base/#using) with one key exception; [import](https://docs.julialang.org/en/v1/base/base/#import) will load the package `Foo`. However, names from the imported `Foo` module can _only_ be accessed with dot syntax (e.g., Foo.foo to access the name foo).\n",
    "\n",
    "Let's do an example. Suppose we wanted to generate samples from and then visualize a [Laplace distribution](https://en.wikipedia.org/wiki/Laplace_distribution) using [Distributions.jl](https://github.com/JuliaStats/Distributions.jl), a [Julia](https://julialang.org) package for probability distributions and associated functions, and [StatsPlots.jl](https://github.com/JuliaPlots/StatsPlots.jl), a [Julia](https://julialang.org) package for statistical visualization. Further, suppose we have already installed [Distributions.jl](https://github.com/JuliaStats/Distributions.jl) and [StatsPlots.jl](https://github.com/JuliaPlots/StatsPlots.jl) using the {ref}`content:references:julia-repl-pkg-mode`.\n",
    "\n",
    "The code block:\n",
    "\n",
    "```{code-block} julia\n",
    "\n",
    "# load packages -\n",
    "using Distributions\n",
    "using StatsPlots\n",
    "\n",
    "# Build a Laplace distribution (from the Distributions package)\n",
    "d = Laplace(0,1); # initialize Laplace distribution with (0,1)\n",
    "\n",
    "# plot the distribution (from StatsPlots package) -\n",
    "plot(d,lw=2, label=\"(0,1)\")\n",
    "xlabel!(\"Value for x (AU)\", fontsize=18)\n",
    "ylabel!(\"Laplace(x) proability density (AU)\", fontsize=18)\n",
    "```\n",
    "\n",
    "where the `Laplace` and `plot` functions are exported from [Distributions.jl](https://github.com/JuliaStats/Distributions.jl) and [StatsPlots.jl](https://github.com/JuliaPlots/StatsPlots.jl), respectively,  produces the plot:\n",
    "\n",
    "```{figure} ./figs/Fig-LaplaceDistribution-PDF.pdf\n",
    "---\n",
    "height: 420px\n",
    "name: fig-laplace-pdf\n",
    "---\n",
    "Plot of a [Laplace distribution](https://en.wikipedia.org/wiki/Laplace_distribution) using [Distributions.jl](https://github.com/JuliaStats/Distributions.jl) and [StatsPlots.jl](https://github.com/JuliaPlots/StatsPlots.jl)\n",
    "```\n",
    "\n",
    "\n",
    "## Summary\n",
    "In this chapter, we introduced some key features of [the Julia programming language](https://julialang.org):\n",
    "\n",
    "* Working with {ref}`content:references:julia-repl`\n",
    "* {ref}`content:references:types-functions-md`\n",
    "* {ref}`content:references:julia-programs`\n",
    "\n",
    "For more information on [Julia](https://julialang.org), please consult the [Julia documentation](https://docs.julialang.org/en/v1/)."
   ]
  }
 ],
 "metadata": {
  "jupytext": {
   "formats": "md:myst",
   "text_representation": {
    "extension": ".md",
    "format_name": "myst"
   }
  },
  "kernelspec": {
   "display_name": "Julia",
   "language": "julia",
   "name": "julia-1.8"
  },
  "language_info": {
   "file_extension": ".jl",
   "mimetype": "application/julia",
   "name": "julia",
   "version": "1.8.2"
  },
  "source_map": [
   11,
   116,
   122,
   126,
   132,
   136,
   142,
   155,
   162,
   165,
   175,
   178,
   186,
   190,
   202,
   210,
   216,
   220,
   226,
   230,
   236,
   243,
   248,
   252,
   257,
   273,
   279,
   283,
   295,
   299,
   310,
   314,
   320,
   343,
   355,
   359,
   369,
   390,
   405,
   422,
   434,
   443,
   455,
   461,
   482,
   491,
   509,
   523,
   536,
   572,
   590
  ]
 },
 "nbformat": 4,
 "nbformat_minor": 5
}