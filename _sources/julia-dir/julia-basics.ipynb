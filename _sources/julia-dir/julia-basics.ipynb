{
 "cells": [
  {
   "cell_type": "markdown",
   "id": "cfe7e6b9",
   "metadata": {},
   "source": [
    "# Introduction to Julia Basics\n",
    "\n",
    "## Introduction\n",
    "[Julia](https://julialang.org) is a dynamically typed compiled programming language developed at [MIT](https://julia.mit.edu) for general purpose computing. [Julia](https://julialang.org) has a number of interesting features, and is an [open source project available under the MIT license](https://github.com/JuliaLang/julia). \n",
    "\n",
    "In this chapter, we will introduce some of the key features of [Julia](https://julialang.org):\n",
    "\n",
    "* Working with {ref}`content:references:julia-repl`\n",
    "* {ref}`content:references:types-functions-md`\n",
    "* {ref}`content:references:julia-programs`\n",
    "\n",
    "---\n",
    "\n",
    "(content:references:julia-repl)=\n",
    "## The Julia REPL\n",
    "You interact with [Julia](https://julialang.org) through the [Read Evaluate Print Loop (REPL)](https://docs.julialang.org/en/v1/stdlib/REPL/). The [REPL](https://docs.julialang.org/en/v1/stdlib/REPL/) allows for quick and easy evaluation of [Julia](https://julialang.org) commands; it has a searchable history, tab-completion, many helpful keybindings, and dedicated help and shell modes. The REPL can be started by launching Julia from the [Terminal on macOS](https://support.apple.com/guide/terminal/open-or-quit-terminal-apd5265185d-f365-44cb-8b09-71a064a42125/mac) or [by installing Windows Subsystem for Linux and launching Julia from an xterm](https://docs.microsoft.com/en-us/windows/wsl/install), or by double-clicking on the [Julia](https://julialang.org) executable, or finally by starting [Julia](https://julialang.org) from the command line in the [terminal of VSCode](https://code.visualstudio.com/docs/terminal/basics).\n",
    "\n",
    "Once the [REPL](https://docs.julialang.org/en/v1/stdlib/REPL/) is started, there are __four__ possible modes that it can be in: \n",
    "\n",
    "* [Julian mode](https://docs.julialang.org/en/v1/stdlib/REPL/#The-Julian-mode): Default mode where commands and expressions are evaluated.\n",
    "* [Help mode](https://docs.julialang.org/en/v1/stdlib/REPL/#Help-mode): Launches the Julia ``help system mode`` where users can view documenation about functions or other Julia features.\n",
    "* [Shell mode](https://docs.julialang.org/en/v1/stdlib/REPL/#man-shell-mode): Launches the ``shell mode`` which allows users to interact with the operating system shell. For Windows users, Julia's shell mode does not expose windows shell commands.\n",
    "* [Package mode](https://docs.julialang.org/en/v1/stdlib/REPL/#Pkg-mode): Launches the [Julia package manager](https://docs.julialang.org/en/v1/stdlib/Pkg/) which allows users to add or delete external packages. \n",
    "\n",
    "Let's go through each of these modes. \n",
    "\n",
    "### Julian mode\n",
    "The [Julian REPL mode](https://docs.julialang.org/en/v1/stdlib/REPL/#The-Julian-mode) is the default mode of operation; each new line initially starts with the ``julia>`` prompt. [Julia](https://julialang.org) commands are entered at the prompt and the results are printed to the screen; hitting return or enter after a complete expression has been entered at the prompt will evaluate the entry and show the result of the last expression. \n",
    "\n",
    "```{figure} ./figs/Fig-Julian-mode-terminal.png\n",
    "---\n",
    "height: 460px\n",
    "name: fig-julian-mode-terminal\n",
    "---\n",
    "The [Julian REPL mode](https://docs.julialang.org/en/v1/stdlib/REPL/#The-Julian-mode) in the [Terminal on macOS](https://support.apple.com/guide/terminal/open-or-quit-terminal-apd5265185d-f365-44cb-8b09-71a064a42125/mac).\n",
    "```\n",
    "\n",
    "{numref}`fig-julian-mode-terminal` shows a case where we enter values for two variables `x` and `y`and compute the result of `x + 2y`.\n",
    "\n",
    "### Help mode\n",
    "Users enter the [help mode](https://docs.julialang.org/en/v1/stdlib/REPL/#Help-mode) by typing a ``?`` character at the prompt. Once in the [help mode](https://docs.julialang.org/en/v1/stdlib/REPL/#Help-mode), which is indicated by the ``help?>`` prompt, users can type a command they have a question about (or use ``TAB`` for a list of autcomplete possibilities), hit enter and the documentation for that command is displayed.\n",
    "\n",
    "\n",
    "```{figure} ./figs/Fig-Help-mode-terminal.png\n",
    "---\n",
    "height: 460px\n",
    "name: fig-help-mode-terminal\n",
    "---\n",
    "The [help mode](https://docs.julialang.org/en/v1/stdlib/REPL/#Help-mode) in the [Terminal on macOS](https://support.apple.com/guide/terminal/open-or-quit-terminal-apd5265185d-f365-44cb-8b09-71a064a42125/mac).\n",
    "```\n",
    "\n",
    "{numref}`fig-help-mode-terminal` shows the documentation for the `varinfo` command; `varinfo` returns a markdown table with information about exported global variables in a module, which (optionally) can be restricted to those matching `pattern`. \n",
    "\n",
    "If no search command is entered at the ``help?>`` prompt, the user can exit [help mode](https://docs.julialang.org/en/v1/stdlib/REPL/#Help-mode) by typing the `backspace` key (which is the `delete` key on macOS).\n",
    "\n",
    "### Shell mode\n",
    "The [shell mode](https://docs.julialang.org/en/v1/stdlib/REPL/#man-shell-mode) is an advanced mode that allows the user to drop down to the [operating system shell](https://en.wikipedia.org/wiki/Shell_(computing)) i.e., a program that exposes an operating system's services and resources to a user (or other programs). \n",
    "\n",
    "Users enter the [shell mode](https://docs.julialang.org/en/v1/stdlib/REPL/#man-shell-mode) by typing the ``;`` character at the Julia prompt. Once in [shell mode](https://docs.julialang.org/en/v1/stdlib/REPL/#man-shell-mode), which is indicated by the ``shell>`` prompt, shell commands can be entered and the results displayed. \n",
    "\n",
    "\n",
    "```{figure} ./figs/Fig-Shell-mode-terminal.png\n",
    "---\n",
    "height: 560px\n",
    "name: fig-shell-mode-terminal\n",
    "---\n",
    "The [shell mode](https://docs.julialang.org/en/v1/stdlib/REPL/#man-shell-mode) in the [Terminal on macOS](https://support.apple.com/guide/terminal/open-or-quit-terminal-apd5265185d-f365-44cb-8b09-71a064a42125/mac).\n",
    "```\n",
    "\n",
    "{numref}`fig-shell-mode-terminal` shows the results of the `ls -al` shell command; `ls -al` returns a list of file and directory names in long format for the current directory (my home directory on macOS). To exit [shell mode](https://docs.julialang.org/en/v1/stdlib/REPL/#man-shell-mode), a user types the `backspace` key (which is the `delete` key on macOS).\n",
    "\n",
    "A list of basic [Unix shell commands can be found here](https://swcarpentry.github.io/shell-novice/reference.html).\n",
    "\n",
    "### Package mode\n",
    "The [package mode](https://docs.julialang.org/en/v1/stdlib/REPL/#Pkg-mode) allows the user to add, delete or update external [Julia](https://julialang.org) packages. A user enters [package mode](https://docs.julialang.org/en/v1/stdlib/REPL/#Pkg-mode) by hitting the ``]`` key which brings up the [package mode](https://docs.julialang.org/en/v1/stdlib/REPL/#Pkg-mode) prompt ``pkg>``. At this prompt, users can manage the packages that are installed globally, or in the local project environment.\n",
    "\n",
    "```{figure} ./figs/Fig-pkg-mode-terminal.png\n",
    "---\n",
    "height: 560px\n",
    "name: fig-pkg-mode-terminal\n",
    "---\n",
    "The [package mode](https://docs.julialang.org/en/v1/stdlib/REPL/#Pkg-mode) in the [Terminal on macOS](https://support.apple.com/guide/terminal/open-or-quit-terminal-apd5265185d-f365-44cb-8b09-71a064a42125/mac).\n",
    "```\n",
    "\n",
    "{numref}`fig-pkg-mode-terminal` shows the results of the ``add Distributions`` command, which installs the [Distributions.jl](https://github.com/JuliaStats/Distributions.jl) package into the ``local_example_project`` project environment. In addition to adding packages, users can update package versions globally or in the local project environment using the ``up`` command; packages can also be deleted using the ``rm <package>`` command. A full list of \n",
    "commands for managing packages in [package mode](https://docs.julialang.org/en/v1/stdlib/REPL/#Pkg-mode) can be found [here](https://pkgdocs.julialang.org/v1/managing-packages/#**3.**-Managing-Packages). To exit [package mode](https://docs.julialang.org/en/v1/stdlib/REPL/#Pkg-mode), a user types the `backspace` key (the `delete` key on macOS).\n",
    "\n",
    "(content:references:types-functions-md)=\n",
    "## Julia types, functions and syntax\n",
    "Julia is a just-in-time compiled language (which gives it a runtime advantage over other popular interpreted languages). However, unlike other languages such as `C`, Julia code is compiled when you run it; a separate compile step is unnecessary. Thus, Julia gives the convenience and performance of a compiled language without the burden of manual compilation. \n",
    "\n",
    "Further, Julia is a dynamically-typed language. This means you are not required to declare the type of variables before you use them. Instead, when your Julia code is compiled, the compiler uses sophisticated logic to infer, i.e., guess your data types. However, users can also specify types, potentially lessening the compiler’s burden. Further, many users find codes with the types annotated to be easier to read and maintain; remember, you may be supporting codes for _decades_, thus, making them easy to understand has an upside.\n",
    "\n",
    "### Variable types\n",
    "Variables are values that you tell your computer to associate with a specific name so that you can later recover or change their values.  Variables can be of different types; [Julia](https://julialang.org) has an extensive [type system](https://docs.julialang.org/en/v1/manual/types/). However, in this course we will primarily use [floating point numbers](https://docs.julialang.org/en/v1/manual/integers-and-floating-point-numbers/#Floating-Point-Numbers), [integers](https://docs.julialang.org/en/v1/manual/integers-and-floating-point-numbers/#Integers) and [Strings](https://docs.julialang.org/en/v1/manual/strings/).\n",
    "\n",
    "In [Julia](https://julialang.org), we do not have to declare a variable name or specify the variable type as in other languages such as `C`; we can just set the variable, and the compiler will figure out the rest. For example, suppose we wanted to store a floating point value (of type `Float64`) in the variable `x`:"
   ]
  },
  {
   "cell_type": "code",
   "execution_count": 1,
   "id": "a2a50840",
   "metadata": {},
   "outputs": [
    {
     "data": {
      "text/plain": [
       "Float64"
      ]
     },
     "execution_count": 1,
     "metadata": {},
     "output_type": "execute_result"
    }
   ],
   "source": [
    "# Set the value for the variable x\n",
    "x = 3.1;\n",
    "\n",
    "# typeof prints the type of the arg passed in\n",
    "typeof(x)"
   ]
  },
  {
   "cell_type": "markdown",
   "id": "d1625f46",
   "metadata": {},
   "source": [
    "or store an integer (type `Int64`):"
   ]
  },
  {
   "cell_type": "code",
   "execution_count": 2,
   "id": "d930d89a",
   "metadata": {},
   "outputs": [
    {
     "data": {
      "text/plain": [
       "Int64"
      ]
     },
     "execution_count": 2,
     "metadata": {},
     "output_type": "execute_result"
    }
   ],
   "source": [
    "# Set the value for the variable x\n",
    "x = 1;\n",
    "\n",
    "# typeof prints the type of the arg passed in\n",
    "typeof(x)"
   ]
  },
  {
   "cell_type": "markdown",
   "id": "89c6e530",
   "metadata": {},
   "source": [
    "or a String:"
   ]
  },
  {
   "cell_type": "code",
   "execution_count": 3,
   "id": "23fb2c5c",
   "metadata": {},
   "outputs": [
    {
     "data": {
      "text/plain": [
       "String"
      ]
     },
     "execution_count": 3,
     "metadata": {},
     "output_type": "execute_result"
    }
   ],
   "source": [
    "# Set the value for the variable x\n",
    "x = \"HelloWorld\";\n",
    "\n",
    "# typeof prints the type of the arg passed in\n",
    "typeof(x)"
   ]
  },
  {
   "cell_type": "markdown",
   "id": "b01876ce",
   "metadata": {},
   "source": [
    "However, in some cases we may want to specify the type of a variable by using the `::` annotation, e.g., when composing \n",
    "the list of input arguments or the type of data returned from a function, or the type of items that are stored in a collection of items.\n",
    "\n",
    "### Collections and Data Structures\n",
    "There are several [Collections and Data Structures](https://docs.julialang.org/en/v1/base/collections/#Collections-and-Data-Structures) that come with [Julia](https://julialang.org), for example [Arrays](https://docs.julialang.org/en/v1/base/arrays/#Core.Array-Tuple{UndefInitializer,%20Any}), [Tuples](https://docs.julialang.org/en/v1/manual/functions/#Tuples), [Dictionaries](https://docs.julialang.org/en/v1/base/collections/#Base.Dict) and [Sets](https://docs.julialang.org/en/v1/base/collections/#Base.Set). However, in addition to the built-in collection types, a particularly useful data structure is called a [DataFrame](https://dataframes.juliadata.org/stable/) which is provided by the [DataFrames.jl](https://github.com/JuliaData/DataFrames.jl) package. \n",
    "\n",
    "#### Arrays\n",
    "Fill me in.\n",
    "\n",
    "#### Tuples\n",
    "Fill me in.\n",
    "\n",
    "#### Dictionaries\n",
    "Fill me on.\n",
    "\n",
    "#### Sets\n",
    "Fill me in.\n",
    "\n",
    "#### DataFrames\n",
    "Objects of type ``DataFrame`` represent data tables where each column corresponds vector of values. The simplest way to construct a DataFrame is to pass vectors holding the values for each column using keyword arguments or pairs:"
   ]
  },
  {
   "cell_type": "code",
   "execution_count": 4,
   "id": "57e22d9d",
   "metadata": {},
   "outputs": [
    {
     "data": {
      "text/html": [
       "<div class=\"data-frame\"><p>4 rows × 2 columns</p><table class=\"data-frame\"><thead><tr><th></th><th>A</th><th>B</th></tr><tr><th></th><th title=\"Int64\">Int64</th><th title=\"String\">String</th></tr></thead><tbody><tr><th>1</th><td>1</td><td>M</td></tr><tr><th>2</th><td>2</td><td>F</td></tr><tr><th>3</th><td>3</td><td>F</td></tr><tr><th>4</th><td>4</td><td>M</td></tr></tbody></table></div>"
      ],
      "text/latex": [
       "\\begin{tabular}{r|cc}\n",
       "\t& A & B\\\\\n",
       "\t\\hline\n",
       "\t& Int64 & String\\\\\n",
       "\t\\hline\n",
       "\t1 & 1 & M \\\\\n",
       "\t2 & 2 & F \\\\\n",
       "\t3 & 3 & F \\\\\n",
       "\t4 & 4 & M \\\\\n",
       "\\end{tabular}\n"
      ],
      "text/plain": [
       "\u001b[1m4×2 DataFrame\u001b[0m\n",
       "\u001b[1m Row \u001b[0m│\u001b[1m A     \u001b[0m\u001b[1m B      \u001b[0m\n",
       "\u001b[1m     \u001b[0m│\u001b[90m Int64 \u001b[0m\u001b[90m String \u001b[0m\n",
       "─────┼───────────────\n",
       "   1 │     1  M\n",
       "   2 │     2  F\n",
       "   3 │     3  F\n",
       "   4 │     4  M"
      ]
     },
     "execution_count": 4,
     "metadata": {},
     "output_type": "execute_result"
    }
   ],
   "source": [
    "using DataFrames\n",
    "df = DataFrame(A=1:4, B=[\"M\", \"F\", \"F\", \"M\"])"
   ]
  },
  {
   "cell_type": "markdown",
   "id": "1f243517",
   "metadata": {},
   "source": [
    "### Program Control Flow\n",
    "Fill me in.\n",
    "\n",
    "### Functions\n",
    "In [Julia](https://julialang.org), a function is an object that maps a [tuple](https://docs.julialang.org/en/v1/manual/functions/#Tuples) of argument values to a return value. Unlike pure mathematical functions, [Julia](https://julialang.org) functions can alter and be affected by the global state of the program. The basic syntax for defining functions in [Julia](https://julialang.org) is:"
   ]
  },
  {
   "cell_type": "code",
   "execution_count": 5,
   "id": "af791952",
   "metadata": {},
   "outputs": [
    {
     "name": "stdout",
     "output_type": "stream",
     "text": [
      "Value from the add function: 5.0\n"
     ]
    }
   ],
   "source": [
    "# declare the add function -\n",
    "function add(x::Float64, y::Float64)::Float64\n",
    "  return (x+y)\n",
    "end\n",
    "\n",
    "# compute the sum of two numbers -\n",
    "value_1 = add(3.0, 2.0);\n",
    "\n",
    "# print the resulting value -\n",
    "println(\"Value from the add function: $(value_1)\")"
   ]
  },
  {
   "cell_type": "markdown",
   "id": "0cb60f78",
   "metadata": {},
   "source": [
    "The `add` function accepts two arguments `x` and `y` (both of type `Float64`) and returns the sum (also of type `Float64`). Notice that when we declared the `add` function, we specified the types of the arguments and the return type using the `::` operator. \n",
    "\n",
    "Thus, if we pass in arguments that are not of the correct type, an error will occur:"
   ]
  },
  {
   "cell_type": "code",
   "execution_count": 6,
   "id": "4c4f7287",
   "metadata": {},
   "outputs": [
    {
     "name": "stdout",
     "output_type": "stream",
     "text": [
      "MethodError: no method matching add(::Float64, ::String)\n",
      "Closest candidates are:\n",
      "  add(::Float64, !Matched::Float64) at In[6]:2\n",
      "Stacktrace:\n",
      " [1] top-level scope\n",
      "   @ In[6]:16\n",
      " [2] eval\n",
      "   @ ./boot.jl:373 [inlined]\n",
      " [3] include_string(mapexpr::typeof(REPL.softscope), mod::Module, code::String, filename::String)\n",
      "   @ Base ./loading.jl:1196\n",
      " [4] softscope_include_string(m::Module, code::String, filename::String)\n",
      "   @ SoftGlobalScope ~/.julia/packages/SoftGlobalScope/u4UzH/src/SoftGlobalScope.jl:65\n",
      " [5] execute_request(socket::ZMQ.Socket, msg::IJulia.Msg)\n",
      "   @ IJulia ~/.julia/packages/IJulia/AQu2H/src/execute_request.jl:67\n",
      " [6] #invokelatest#2\n",
      "   @ ./essentials.jl:716 [inlined]\n",
      " [7] invokelatest\n",
      "   @ ./essentials.jl:714 [inlined]\n",
      " [8] eventloop(socket::ZMQ.Socket)\n",
      "   @ IJulia ~/.julia/packages/IJulia/AQu2H/src/eventloop.jl:8\n",
      " [9] (::IJulia.var\"#15#18\")()\n",
      "   @ IJulia ./task.jl:429\n"
     ]
    }
   ],
   "source": [
    "# declare the add function -\n",
    "function add(x::Float64, y::Float64)::Float64\n",
    "  return (x+y)\n",
    "end\n",
    "\n",
    "try \n",
    "  \n",
    "  # compute the sum of two numbers -\n",
    "  value_1 = add(3.0, \"Two\");\n",
    "\n",
    "  # print the resulting value -\n",
    "  println(\"Value from the add function: $(value_1)\")\n",
    "\n",
    "catch error\n",
    "  \n",
    "  bt = backtrace()\n",
    "  msg = sprint(showerror, error, bt)\n",
    "  println(msg)\n",
    "end"
   ]
  },
  {
   "cell_type": "markdown",
   "id": "8db4e218",
   "metadata": {},
   "source": [
    "[Julia](https://julialang.org) function arguments follow the pass-by-sharing convention, i.e., values are __not__ copied when they are passed to functions. Instead, function arguments act as new variable bindings (new locations that can refer to values), but the values they refer to are identical to the passed values. \n",
    "\n",
    "\n",
    "(content:references:julia-programs)=\n",
    "## Writing and Executing Julia Programs\n",
    "Julia programs are written in files with the extension ``.jl``. To load a Julia program contained in ``Program.jl``, the user executes the [include](https://docs.julialang.org/en/v1/manual/code-loading/) command in the [REPL](https://docs.julialang.org/en/v1/stdlib/REPL/) where the path to ``Program.jl`` is passed in as an argument of type ``String`` to the [include](https://docs.julialang.org/en/v1/manual/code-loading/) command. \n",
    "\n",
    "````{prf:example} Include command\n",
    ":label: include-example-julia-program\n",
    "\n",
    "Julia code can be loaded using the [include](https://docs.julialang.org/en/v1/manual/code-loading/) command. \n",
    "For example, to load Julia code in the ``Program.jl`` file, the user would execute the command in the [Julia REPL](https://docs.julialang.org/en/v1/stdlib/REPL/):\n",
    "\n",
    "```julia\n",
    "julia> include(\"Program.jl\")\n",
    "```\n",
    "\n",
    "````\n",
    "\n",
    "{prf:ref}`include-example-julia-program` loads the code contained in the ``Program.jl`` file into the [REPL](https://docs.julialang.org/en/v1/stdlib/REPL/). If ``Program.jl`` is an _executable script_ then ``Program.jl`` will be executed, otherwise, the variables, data structures and functions encoded in ``Program.jl`` will be loaded into the memory of the [REPL](https://docs.julialang.org/en/v1/stdlib/REPL/). To make ``Program.jl`` executable, a `main` method is called (which in turn can load data, call other functions, etc):\n",
    "\n",
    "````{prf:example} Executable Program.jl\n",
    ":label: executable-julia-program-template\n",
    "\n",
    "```julia\n",
    "\n",
    "function example()\n",
    "\n",
    "    # stuff happens here\n",
    "    # ...\n",
    "end\n",
    "\n",
    "function main()\n",
    "    \n",
    "    # load data \n",
    "    # ...\n",
    "\n",
    "    # call other functions -\n",
    "    example()\n",
    "\n",
    "end\n",
    "\n",
    "# call main method\n",
    "main()\n",
    "```\n",
    "````"
   ]
  }
 ],
 "metadata": {
  "jupytext": {
   "formats": "md:myst",
   "text_representation": {
    "extension": ".md",
    "format_name": "myst"
   }
  },
  "kernelspec": {
   "display_name": "Julia",
   "language": "julia",
   "name": "julia-1.7"
  },
  "language_info": {
   "file_extension": ".jl",
   "mimetype": "application/julia",
   "name": "julia",
   "version": "1.7.3"
  },
  "source_map": [
   11,
   111,
   117,
   121,
   127,
   131,
   137,
   160,
   163,
   171,
   183,
   189,
   210
  ]
 },
 "nbformat": 4,
 "nbformat_minor": 5
}