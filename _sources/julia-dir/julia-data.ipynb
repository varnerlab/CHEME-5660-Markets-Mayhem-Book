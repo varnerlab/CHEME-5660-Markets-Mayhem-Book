{
 "cells": [
  {
   "cell_type": "markdown",
   "id": "79c13cfe",
   "metadata": {},
   "source": [
    "# Working with Data in Julia\n",
    "\n",
    "## Introduction\n",
    "Working with data is one of the most common tasks in any programming language, including [Julia](https://julialang.org). For example, loading data into a program, doing some calculations using that data, and then saving the results to a file (either locally or in the cloud) describes the majority of programs you will write in this course. \n",
    "\n",
    "There are various tools and approaches to reading and writing data files in [Julia](https://julialang.org). This chapter will consider a few common approaches and introduce some patterns for working with data files. In particular, we will:\n",
    "\n",
    "* Introduce reading and writing {ref}`content:references:julia-csv-files`, a common data format for numerical data files\n",
    "* Introduce more expressive tools such as {ref}`content:references:julia-dataframes`, which are in-memory tabular data structures\n",
    "* Introduce reading and writing data in {ref}`content:references:julia-binary-formats`, a common approach for large data files and more complex data structures \n",
    "\n",
    "---\n",
    "\n",
    "(content:references:julia-csv-files)=\n",
    "## Comma seperated value files\n",
    "Arguably, the most widely used data file format for the universe of possible applications is the [comma separated value (CSV) format](https://en.wikipedia.org/wiki/Comma-separated_values). A CVS file is a delimited text file that uses a comma to separate data values. Each line of a CSV file is called a record, where each record consists of one or more fields (data values), separated by commas; hence the name comma separated value file. \n",
    "\n",
    "A CSV file is typically used to store tabular data (numbers and text) in plain text, where each line has the same number of fields. However, the CSV file format is not standardized. Thus, while separating fields in records with commas is standard, various exceptions and exceptional cases sometimes make CSV files problematic, e.g., fields with commas in the data or records with a variable number of fields can make working CSV files challenging. \n",
    "\n",
    "Fortunately, the applications we are interested in typically involve numerical [CSV files](https://en.wikipedia.org/wiki/Comma-separated_values) that are easily handled using the [CSV.jl](https://github.com/JuliaData/CSV.jl) package. The [CSV.jl](https://github.com/JuliaData/CSV.jl) package can be downloaded and installed using the [Julia package manager](./julia-basics.md). To load the `CSV` package into your program, or the [REPL](./julia-basics.md), issue the [using](https://docs.julialang.org/en/v1/base/base/#using) or [import](https://docs.julialang.org/en/v1/base/base/#import) commands. Once loaded, the `CSV` package publishes several commands to read and write [CSV files](https://en.wikipedia.org/wiki/Comma-separated_values). \n",
    "\n",
    "\n",
    "\n",
    "(content:references:julia-dataframes)=\n",
    "## DataFrames\n",
    "[DataFrame.jl](https://dataframes.juliadata.org/stable/lib/types/#DataFrames.DataFrame) is a [Julia](https://julialang.org) package that provides tools for working with tabular data in [Julia](https://julialang.org), e.g., numerical data tables.  \n",
    "\n",
    "The [DataFrame.jl](https://dataframes.juliadata.org/stable/lib/types/#DataFrames.DataFrame) package can be downloaded and installed using the [Julia package manager](./julia-basics.md). To load the `DataFrames` package into your program, or the [REPL](./julia-basics.md), issue the [using](https://docs.julialang.org/en/v1/base/base/#using) or [import](https://docs.julialang.org/en/v1/base/base/#import) commands. Once the `DataFrames`  package is loaded, it publishes several commands to work with tabular data.\n",
    "\n",
    "Objects of type [DataFrame](https://dataframes.juliadata.org/stable/lib/types/#DataFrames.DataFrame) represent data tables where each column corresponds vector of values. The simplest way to construct a [DataFrame](https://dataframes.juliadata.org/stable/lib/types/#DataFrames.DataFrame) is to pass vectors holding the values for each column using keyword arguments or pairs:"
   ]
  },
  {
   "cell_type": "code",
   "execution_count": 1,
   "id": "9b3c099a",
   "metadata": {},
   "outputs": [
    {
     "data": {
      "text/html": [
       "<div class=\"data-frame\"><p>4 rows × 2 columns</p><table class=\"data-frame\"><thead><tr><th></th><th>A</th><th>B</th></tr><tr><th></th><th title=\"Int64\">Int64</th><th title=\"String\">String</th></tr></thead><tbody><tr><th>1</th><td>1</td><td>M</td></tr><tr><th>2</th><td>2</td><td>F</td></tr><tr><th>3</th><td>3</td><td>F</td></tr><tr><th>4</th><td>4</td><td>M</td></tr></tbody></table></div>"
      ],
      "text/latex": [
       "\\begin{tabular}{r|cc}\n",
       "\t& A & B\\\\\n",
       "\t\\hline\n",
       "\t& Int64 & String\\\\\n",
       "\t\\hline\n",
       "\t1 & 1 & M \\\\\n",
       "\t2 & 2 & F \\\\\n",
       "\t3 & 3 & F \\\\\n",
       "\t4 & 4 & M \\\\\n",
       "\\end{tabular}\n"
      ],
      "text/plain": [
       "\u001b[1m4×2 DataFrame\u001b[0m\n",
       "\u001b[1m Row \u001b[0m│\u001b[1m A     \u001b[0m\u001b[1m B      \u001b[0m\n",
       "\u001b[1m     \u001b[0m│\u001b[90m Int64 \u001b[0m\u001b[90m String \u001b[0m\n",
       "─────┼───────────────\n",
       "   1 │     1  M\n",
       "   2 │     2  F\n",
       "   3 │     3  F\n",
       "   4 │     4  M"
      ]
     },
     "execution_count": 1,
     "metadata": {},
     "output_type": "execute_result"
    }
   ],
   "source": [
    "# This example was reproduced from the DataFrames.jl package documentation\n",
    "# https://dataframes.juliadata.org/stable/man/basics/#First-Steps-with-DataFrames.jl\n",
    "\n",
    "# Load external packages\n",
    "using DataFrames\n",
    "\n",
    "# build a sample DataFrame -> store in variable df\n",
    "df = DataFrame(A=1:4, B=[\"M\", \"F\", \"F\", \"M\"])"
   ]
  },
  {
   "cell_type": "markdown",
   "id": "2804de2c",
   "metadata": {},
   "source": [
    "A [DataFrame](https://dataframes.juliadata.org/stable/lib/types/#DataFrames.DataFrame) can also be created from a [Dictionary](https://docs.julialang.org/en/v1/base/collections/#Dictionaries), where the column header names are the keys of the dictionary, and the columns are the data associated with each key:"
   ]
  },
  {
   "cell_type": "code",
   "execution_count": 2,
   "id": "2a73c544",
   "metadata": {},
   "outputs": [
    {
     "data": {
      "text/html": [
       "<div class=\"data-frame\"><p>3 rows × 2 columns</p><table class=\"data-frame\"><thead><tr><th></th><th>customer_age</th><th>first_name</th></tr><tr><th></th><th title=\"Int64\">Int64</th><th title=\"String\">String</th></tr></thead><tbody><tr><th>1</th><td>15</td><td>Rohit</td></tr><tr><th>2</th><td>20</td><td>Rahul</td></tr><tr><th>3</th><td>25</td><td>Akshat</td></tr></tbody></table></div>"
      ],
      "text/latex": [
       "\\begin{tabular}{r|cc}\n",
       "\t& customer\\_age & first\\_name\\\\\n",
       "\t\\hline\n",
       "\t& Int64 & String\\\\\n",
       "\t\\hline\n",
       "\t1 & 15 & Rohit \\\\\n",
       "\t2 & 20 & Rahul \\\\\n",
       "\t3 & 25 & Akshat \\\\\n",
       "\\end{tabular}\n"
      ],
      "text/plain": [
       "\u001b[1m3×2 DataFrame\u001b[0m\n",
       "\u001b[1m Row \u001b[0m│\u001b[1m customer_age \u001b[0m\u001b[1m first_name \u001b[0m\n",
       "\u001b[1m     \u001b[0m│\u001b[90m Int64        \u001b[0m\u001b[90m String     \u001b[0m\n",
       "─────┼──────────────────────────\n",
       "   1 │           15  Rohit\n",
       "   2 │           20  Rahul\n",
       "   3 │           25  Akshat"
      ]
     },
     "execution_count": 2,
     "metadata": {},
     "output_type": "execute_result"
    }
   ],
   "source": [
    "# This example was reproduced from the DataFrames.jl package documentation\n",
    "# https://dataframes.juliadata.org/stable/man/basics/#First-Steps-with-DataFrames.jl\n",
    "\n",
    "# Load external packages\n",
    "using DataFrames\n",
    "\n",
    "# create a dictionary w/data -> variable dict\n",
    "dict = Dict(:customer_age => [15, 20, 25], \n",
    "  :first_name => [\"Rohit\", \"Rahul\", \"Akshat\"])\n",
    "\n",
    "# convert the dictionary to a DataFrame -> variable df\n",
    "df = DataFrame(dict)"
   ]
  },
  {
   "cell_type": "markdown",
   "id": "f38112b4",
   "metadata": {},
   "source": [
    "Notice the [Dictionary](https://docs.julialang.org/en/v1/base/collections/#Dictionaries) keys are of type [Symbol](https://docs.julialang.org/en/v1/base/base/#Core.Symbol) and __not__ [Strings](https://docs.julialang.org/en/v1/base/strings/#lib-strings); a [Symbol](https://docs.julialang.org/en/v1/base/base/#Core.Symbol) represents an identifier in parsed julia code (ASTs). A [Symbol](https://docs.julialang.org/en/v1/base/base/#Core.Symbol) is often used as a name or label to identify an entity, e.g., as a dictionary key as shown above. [Symbols](https://docs.julialang.org/en/v1/base/base/#Core.Symbol) can be entered using the `:` quote operator or constructed from [Strings](https://docs.julialang.org/en/v1/base/strings/#lib-strings) using the `Symbol(x...)` constructor method.\n",
    "\n",
    "\n",
    "### Reading and writing dataframes from disk\n",
    "While it's easy to create a [DataFrame](https://dataframes.juliadata.org/stable/lib/types/#DataFrames.DataFrame) manually, many of the applications that we are interested in typically require that we read data files from disk and convert that into a [DataFrame](https://dataframes.juliadata.org/stable/lib/types/#DataFrames.DataFrame) object, or we save a [DataFrame](https://dataframes.juliadata.org/stable/lib/types/#DataFrames.DataFrame) object to a file. \n",
    "\n",
    "(content:references:julia-binary-formats)=\n",
    "## Binary file formats\n",
    "Binary file formats have been developed to store and organize large amounts of complex structured data. The basis of many binary formats is the [Hierarchical Data Format (HDF)](https://en.wikipedia.org/wiki/Hierarchical_Data_Format), a set of file formats initially developed by the [U.S. National Center for Supercomputing Applications (NCSA)](https://en.wikipedia.org/wiki/National_Center_for_Supercomputing_Applications). \n",
    "\n",
    "The [JLD2.jl](https://github.com/JuliaIO/JLD2.jl) package saves and loads [Julia](https://julialang.org) data structures in a format that is a subset of [HDF5](https://en.wikipedia.org/wiki/Hierarchical_Data_Format#HDF5), the latest iteration of the [Hierarchical Data Format (HDF)](https://en.wikipedia.org/wiki/Hierarchical_Data_Format). \n",
    "\n",
    "The [JLD2.jl](https://github.com/JuliaIO/JLD2.jl) package can be downloaded and installed using the [Julia package manager](./julia-basics.md). To load the `JLD2` package into your program, or the [REPL](./julia-basics.md), issue the [using](https://docs.julialang.org/en/v1/base/base/#using) or [import](https://docs.julialang.org/en/v1/base/base/#import) commands. Once the `JLD2`  package is loaded, it publishes several commands to load and save data in the [HDF5](https://en.wikipedia.org/wiki/Hierarchical_Data_Format#HDF5) format. Let's look at the {ref}`content:references:julia-binary-formats-save` and {ref}`content:references:julia-binary-formats-load` functions.\n",
    "\n",
    "(content:references:julia-binary-formats-save)=\n",
    "### save\n",
    "\n",
    "Consider an example of saving a `JLD2` file; in this example, we downloaded stock price data for several firms from an external application programming interface (API) and saved this dataset as a [Dictionary](https://docs.julialang.org/en/v1/base/collections/#Dictionaries). The price history for each firm is stored in a [DataFrame](https://dataframes.juliadata.org/stable/lib/types/#DataFrames.DataFrame), while the overall dataset for N = 25 firms is stored as a [Dictionary](https://docs.julialang.org/en/v1/base/collections/#Dictionaries) where the ticker symbol for firm `XYZ` (of type [String](https://docs.julialang.org/en/v1/base/strings/#lib-strings)) is used as the [Dictionary](https://docs.julialang.org/en/v1/base/collections/#Dictionaries) key.\n",
    "\n",
    "The `save` function accepts a path and an `AbstractDict` holding the key/value pairs that we wish to save, where the key is a string representing the name of the dataset and the value is its contents:\n",
    "\n",
    "```{code-block} julia\n",
    "# load external packages\n",
    "using DataFrames\n",
    "using JLD2\n",
    "using FileIO\n",
    "\n",
    "# external process to download data (not shown)\n",
    "dd = api({arguments}); # dd -> Dict{String,DataFrame}\n",
    "\n",
    "# path to data file \n",
    "filename = \"Portfolio-Data-06-20-22.jld2\"\n",
    "\n",
    "# save\n",
    "save(\"Portfolio-Data-06-20-22.jld2\", Dict(\"dd\" => dd)); # saved dd in Dict with key dd\n",
    "```\n",
    "(content:references:julia-binary-formats-load)=\n",
    "### load\n",
    "\n",
    "Consider an example of loading a `JLD2` file; in this example, a [Dictionary](https://docs.julialang.org/en/v1/base/collections/#Dictionaries) holding stock market data is loaded from disk. In particular, the price data for each of N = 25 firms is stored in a [DataFrame](https://dataframes.juliadata.org/stable/lib/types/#DataFrames.DataFrame), where the ticker symbol for each firm `XYZ` is used as the [Dictionary](https://docs.julialang.org/en/v1/base/collections/#Dictionaries) key; the ticker symbol `XYZ` is of type [String](https://docs.julialang.org/en/v1/base/strings/#lib-strings). Thus, the loaded [Dictionary](https://docs.julialang.org/en/v1/base/collections/#Dictionaries) is of type `Dict{String,DataFrame}`.\n",
    "\n",
    "The `load` function reads a `*.jld2` file from the disk. When called with a path argument only, the `load` function loads the dataset from the given file into a [Dictionary](https://docs.julialang.org/en/v1/base/collections/#Dictionaries):\n",
    "\n",
    "```{code-block} julia\n",
    "# load external packages\n",
    "using DataFrames\n",
    "using JLD2\n",
    "using FileIO\n",
    "\n",
    "# set path to the data file\n",
    "# joinpath is cross platform: handles / vs \\\n",
    "path_to_data_file = joinpath(\".\", \"data\", \"Portfolio-Data-06-20-22.jld2\")\n",
    "\n",
    "# load the dataset: the original data is stored in a Dict with key `dd`\n",
    "dd = load(path_to_data_file)[\"dd\"] # dd -> Dict{String,DataFrame}\n",
    "```\n",
    "\n",
    "Taken together, the [JLD2.jl](https://github.com/JuliaIO/JLD2.jl) package provides tools to directly persist (and load) complex hierarchical data structures, which go well beyond just numerical data. For more information, please see the [JLD2.jl package documentation](https://github.com/JuliaIO/JLD2.jl).\n",
    "\n",
    "---\n",
    "\n",
    "## Summary\n",
    "\n",
    "In this chpater we:\n",
    "* Introduced reading and writing {ref}`content:references:julia-csv-files`, a standard data format for working with numerical data files\n",
    "* Introduced more expressive tools such as {ref}`content:references:julia-dataframes`, which are in-memory tabular data structures. `DataFrames` are highly flexible data structures offering many advanced storage and query capabilities. \n",
    "* Introduced reading and writing data in {ref}`content:references:julia-binary-formats`, a common approach for large data files and more complex data structures"
   ]
  }
 ],
 "metadata": {
  "jupytext": {
   "formats": "md:myst",
   "text_representation": {
    "extension": ".md",
    "format_name": "myst"
   }
  },
  "kernelspec": {
   "display_name": "Julia",
   "language": "julia",
   "name": "julia-1.7"
  },
  "language_info": {
   "file_extension": ".jl",
   "mimetype": "application/julia",
   "name": "julia",
   "version": "1.7.3"
  },
  "source_map": [
   11,
   44,
   53,
   57,
   70
  ]
 },
 "nbformat": 4,
 "nbformat_minor": 5
}