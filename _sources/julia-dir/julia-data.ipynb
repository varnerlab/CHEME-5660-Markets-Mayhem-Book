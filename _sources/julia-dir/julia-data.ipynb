{
 "cells": [
  {
   "cell_type": "markdown",
   "id": "0608bcdc",
   "metadata": {},
   "source": [
    "# Working with Data \n",
    "\n",
    "## Introduction\n",
    "Fill me in.\n",
    "\n",
    "## Comma seperated value files\n",
    "Fill me in.\n",
    "\n",
    "## DataFrames\n",
    "Objects of type ``DataFrame`` represent data tables where each column corresponds vector of values. The simplest way to construct a DataFrame is to pass vectors holding the values for each column using keyword arguments or pairs:"
   ]
  },
  {
   "cell_type": "code",
   "execution_count": 1,
   "id": "2091d46c",
   "metadata": {},
   "outputs": [
    {
     "data": {
      "text/html": [
       "<div class=\"data-frame\"><p>4 rows × 2 columns</p><table class=\"data-frame\"><thead><tr><th></th><th>A</th><th>B</th></tr><tr><th></th><th title=\"Int64\">Int64</th><th title=\"String\">String</th></tr></thead><tbody><tr><th>1</th><td>1</td><td>M</td></tr><tr><th>2</th><td>2</td><td>F</td></tr><tr><th>3</th><td>3</td><td>F</td></tr><tr><th>4</th><td>4</td><td>M</td></tr></tbody></table></div>"
      ],
      "text/latex": [
       "\\begin{tabular}{r|cc}\n",
       "\t& A & B\\\\\n",
       "\t\\hline\n",
       "\t& Int64 & String\\\\\n",
       "\t\\hline\n",
       "\t1 & 1 & M \\\\\n",
       "\t2 & 2 & F \\\\\n",
       "\t3 & 3 & F \\\\\n",
       "\t4 & 4 & M \\\\\n",
       "\\end{tabular}\n"
      ],
      "text/plain": [
       "\u001b[1m4×2 DataFrame\u001b[0m\n",
       "\u001b[1m Row \u001b[0m│\u001b[1m A     \u001b[0m\u001b[1m B      \u001b[0m\n",
       "\u001b[1m     \u001b[0m│\u001b[90m Int64 \u001b[0m\u001b[90m String \u001b[0m\n",
       "─────┼───────────────\n",
       "   1 │     1  M\n",
       "   2 │     2  F\n",
       "   3 │     3  F\n",
       "   4 │     4  M"
      ]
     },
     "execution_count": 1,
     "metadata": {},
     "output_type": "execute_result"
    }
   ],
   "source": [
    "using DataFrames\n",
    "df = DataFrame(A=1:4, B=[\"M\", \"F\", \"F\", \"M\"])"
   ]
  },
  {
   "cell_type": "markdown",
   "id": "85d63b22",
   "metadata": {},
   "source": [
    "## Binary file formats\n",
    "Fill me in.\n",
    "\n",
    "## Summary\n",
    "Fill me in."
   ]
  }
 ],
 "metadata": {
  "jupytext": {
   "formats": "md:myst",
   "text_representation": {
    "extension": ".md",
    "format_name": "myst"
   }
  },
  "kernelspec": {
   "display_name": "Julia",
   "language": "julia",
   "name": "julia-1.7"
  },
  "language_info": {
   "file_extension": ".jl",
   "mimetype": "application/julia",
   "name": "julia",
   "version": "1.7.3"
  },
  "source_map": [
   11,
   24,
   27
  ]
 },
 "nbformat": 4,
 "nbformat_minor": 5
}