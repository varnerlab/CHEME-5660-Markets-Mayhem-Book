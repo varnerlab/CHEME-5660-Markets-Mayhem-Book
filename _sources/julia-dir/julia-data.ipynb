{
 "cells": [
  {
   "cell_type": "markdown",
   "id": "05767071",
   "metadata": {},
   "source": [
    "# Working with Data in Julia\n",
    "\n",
    "## Introduction\n",
    "Working with data is one of the most common tasks in any programming language, including [Julia](https://julialang.org). For example, loading data into a program, doing some calculations using that data, and then saving the results to a file (either locally or in the cloud) describes the majority of programs you will write in this course. \n",
    "\n",
    "There are various tools and approaches to reading and writing data files in [Julia](https://julialang.org). This chapter will consider a few common approaches and introduce some patterns for working with data files. In particular, we will:\n",
    "\n",
    "* Introduce reading and writing {ref}`content:references:julia-csv-files`, a common data format for numerical data files\n",
    "* Introduce more expressive tools such as {ref}`content:references:julia-dataframes`, which are in-memory tabular data structures\n",
    "* Introduce reading and writing data in {ref}`content:references:julia-binary-formats`, a common approach for large data files and more complex data structures \n",
    "\n",
    "---\n",
    "\n",
    "(content:references:julia-csv-files)=\n",
    "## Comma seperated value (CSV) files\n",
    "Arguably, the most widely used data file format for the universe of possible applications is the [comma separated value (CSV) format](https://en.wikipedia.org/wiki/Comma-separated_values). A CVS file is a delimited text file that uses a comma to separate data values. Each line of a CSV file is called a record, where each record consists of one or more fields (data values), separated by commas; hence the name comma separated value file. \n",
    "\n",
    "A CSV file is typically used to store tabular data (numbers and text) in plain text, where each line has the same number of fields. However, the CSV file format is not standardized. For example, column headers may or may not be present. Further, while separating fields in records with commas is standard, various exceptions and exceptional cases sometimes make CSV files problematic, e.g., fields with commas in the data or records with a variable number of fields can make working CSV files challenging.  \n",
    "\n",
    "Fortunately, the applications we are interested in typically involve numerical [CSV files](https://en.wikipedia.org/wiki/Comma-separated_values) that are easily handled using the [CSV.jl](https://github.com/JuliaData/CSV.jl) package. The [CSV.jl](https://github.com/JuliaData/CSV.jl) package can be downloaded and installed using the [Julia package manager](./julia-basics.md). To load the `CSV` package into your program, or the [REPL](./julia-basics.md), issue the [using](https://docs.julialang.org/en/v1/base/base/#using) or [import](https://docs.julialang.org/en/v1/base/base/#import) commands. Once loaded, the `CSV` package publishes several commands to read and write [CSV files](https://en.wikipedia.org/wiki/Comma-separated_values). \n",
    "\n",
    "The main methods exported by the [CSV.jl](https://github.com/JuliaData/CSV.jl) package are the [CVS.read](https://csv.juliadata.org/stable/reading.html#CSV.read) and [CVS.write](https://csv.juliadata.org/stable/writing.html#CSV.write) methods. \n",
    "\n",
    "* [CVS.read](https://csv.juliadata.org/stable/reading.html#CSV.read) allows the user to load a data file into one of several data structures\n",
    "* [CVS.write](https://csv.juliadata.org/stable/writing.html#CSV.write) allows the user to write a tabular data structure to a CSV file. \n",
    "\n",
    "For most of the applications, we will be doing, the source and sink data structure will be [DataFrames](https://dataframes.juliadata.org/stable/lib/types/#DataFrames.DataFrame), a handy tabular data structure. Thus, we do not read (or write) a [DataFrame](https://dataframes.juliadata.org/stable/lib/types/#DataFrames.DataFrame) directly; instead, we store it as (or read from) a CSV file. \n",
    "\n",
    "(content:references:julia-dataframes)=\n",
    "## DataFrames\n",
    "[DataFrame.jl](https://github.com/JuliaData/DataFrames.jl) is a [Julia](https://julialang.org) package that provides tools for working with tabular data in [Julia](https://julialang.org), e.g., numerical data tables. The [DataFrame.jl](https://github.com/JuliaData/DataFrames.jl) package can be downloaded and installed using the [Julia package manager](./julia-basics.md). To load the `DataFrames` package into your program, or the [REPL](./julia-basics.md), issue the [using](https://docs.julialang.org/en/v1/base/base/#using) or [import](https://docs.julialang.org/en/v1/base/base/#import) commands. Once the `DataFrames`  package is loaded, it publishes several commands to work with tabular data.\n",
    "\n",
    "Objects of type [DataFrame](https://dataframes.juliadata.org/stable/lib/types/#DataFrames.DataFrame) represent data tables where each column corresponds vector of values. The simplest way to construct a [DataFrame](https://dataframes.juliadata.org/stable/lib/types/#DataFrames.DataFrame) is to pass vectors holding the values for each column using keyword arguments or pairs:"
   ]
  },
  {
   "cell_type": "code",
   "execution_count": 1,
   "id": "2125d9ee",
   "metadata": {},
   "outputs": [
    {
     "data": {
      "text/html": [
       "<div class=\"data-frame\"><p>4 rows × 2 columns</p><table class=\"data-frame\"><thead><tr><th></th><th>A</th><th>B</th></tr><tr><th></th><th title=\"Int64\">Int64</th><th title=\"String\">String</th></tr></thead><tbody><tr><th>1</th><td>1</td><td>M</td></tr><tr><th>2</th><td>2</td><td>F</td></tr><tr><th>3</th><td>3</td><td>F</td></tr><tr><th>4</th><td>4</td><td>M</td></tr></tbody></table></div>"
      ],
      "text/latex": [
       "\\begin{tabular}{r|cc}\n",
       "\t& A & B\\\\\n",
       "\t\\hline\n",
       "\t& Int64 & String\\\\\n",
       "\t\\hline\n",
       "\t1 & 1 & M \\\\\n",
       "\t2 & 2 & F \\\\\n",
       "\t3 & 3 & F \\\\\n",
       "\t4 & 4 & M \\\\\n",
       "\\end{tabular}\n"
      ],
      "text/plain": [
       "\u001b[1m4×2 DataFrame\u001b[0m\n",
       "\u001b[1m Row \u001b[0m│\u001b[1m A     \u001b[0m\u001b[1m B      \u001b[0m\n",
       "\u001b[1m     \u001b[0m│\u001b[90m Int64 \u001b[0m\u001b[90m String \u001b[0m\n",
       "─────┼───────────────\n",
       "   1 │     1  M\n",
       "   2 │     2  F\n",
       "   3 │     3  F\n",
       "   4 │     4  M"
      ]
     },
     "execution_count": 1,
     "metadata": {},
     "output_type": "execute_result"
    }
   ],
   "source": [
    "# This example was reproduced from the DataFrames.jl package documentation\n",
    "# https://dataframes.juliadata.org/stable/man/basics/#First-Steps-with-DataFrames.jl\n",
    "\n",
    "# Load external packages\n",
    "using DataFrames\n",
    "\n",
    "# build a sample DataFrame -> store in variable df\n",
    "df = DataFrame(A=1:4, B=[\"M\", \"F\", \"F\", \"M\"])"
   ]
  },
  {
   "cell_type": "markdown",
   "id": "a3ee320f",
   "metadata": {},
   "source": [
    "A [DataFrame](https://dataframes.juliadata.org/stable/lib/types/#DataFrames.DataFrame) can also be created from a [Dictionary](https://docs.julialang.org/en/v1/base/collections/#Dictionaries), where the column header names are constructed from the keys of the dictionary, and the column values are the data associated with each key:"
   ]
  },
  {
   "cell_type": "code",
   "execution_count": 2,
   "id": "3c241628",
   "metadata": {},
   "outputs": [
    {
     "data": {
      "text/html": [
       "<div class=\"data-frame\"><p>3 rows × 3 columns</p><table class=\"data-frame\"><thead><tr><th></th><th>customer_age</th><th>first_name</th><th>state</th></tr><tr><th></th><th title=\"Int64\">Int64</th><th title=\"String\">String</th><th title=\"String\">String</th></tr></thead><tbody><tr><th>1</th><td>22</td><td>Rohit</td><td>IN</td></tr><tr><th>2</th><td>20</td><td>Rahul</td><td>CA</td></tr><tr><th>3</th><td>25</td><td>Akshat</td><td>OR</td></tr></tbody></table></div>"
      ],
      "text/latex": [
       "\\begin{tabular}{r|ccc}\n",
       "\t& customer\\_age & first\\_name & state\\\\\n",
       "\t\\hline\n",
       "\t& Int64 & String & String\\\\\n",
       "\t\\hline\n",
       "\t1 & 22 & Rohit & IN \\\\\n",
       "\t2 & 20 & Rahul & CA \\\\\n",
       "\t3 & 25 & Akshat & OR \\\\\n",
       "\\end{tabular}\n"
      ],
      "text/plain": [
       "\u001b[1m3×3 DataFrame\u001b[0m\n",
       "\u001b[1m Row \u001b[0m│\u001b[1m customer_age \u001b[0m\u001b[1m first_name \u001b[0m\u001b[1m state  \u001b[0m\n",
       "\u001b[1m     \u001b[0m│\u001b[90m Int64        \u001b[0m\u001b[90m String     \u001b[0m\u001b[90m String \u001b[0m\n",
       "─────┼──────────────────────────────────\n",
       "   1 │           22  Rohit       IN\n",
       "   2 │           20  Rahul       CA\n",
       "   3 │           25  Akshat      OR"
      ]
     },
     "execution_count": 2,
     "metadata": {},
     "output_type": "execute_result"
    }
   ],
   "source": [
    "# This example was reproduced from the DataFrames.jl package documentation\n",
    "# https://dataframes.juliadata.org/stable/man/basics/#First-Steps-with-DataFrames.jl\n",
    "\n",
    "# Load external packages\n",
    "using DataFrames\n",
    "\n",
    "# create a dictionary w/data -> variable dict\n",
    "dict = Dict(\n",
    "  :customer_age => [22, 20, 25], \n",
    "  :first_name => [\"Rohit\", \"Rahul\", \"Akshat\"],\n",
    "  :state => [\"IN\",\"CA\",\"OR\"]\n",
    ");\n",
    "\n",
    "# convert the dictionary to a DataFrame -> variable df\n",
    "df = DataFrame(dict)"
   ]
  },
  {
   "cell_type": "markdown",
   "id": "984f60dc",
   "metadata": {},
   "source": [
    "Notice the [Dictionary](https://docs.julialang.org/en/v1/base/collections/#Dictionaries) keys are of type [Symbol](https://docs.julialang.org/en/v1/base/base/#Core.Symbol) and __not__ [Strings](https://docs.julialang.org/en/v1/base/strings/#lib-strings); a [Symbol](https://docs.julialang.org/en/v1/base/base/#Core.Symbol) represents a special type of identifier in [Julia](https://julialang.org). [Symbols](https://docs.julialang.org/en/v1/base/base/#Core.Symbol) are often used as names or labels to identify an entity, e.g., as a dictionary key as shown above. [Symbols](https://docs.julialang.org/en/v1/base/base/#Core.Symbol) can be entered using the `:` quote operator or constructed from [Strings](https://docs.julialang.org/en/v1/base/strings/#lib-strings) using the `Symbol(x...)` constructor method.\n",
    "\n",
    "### Why are DataFrames interesting?\n",
    "[DataFrames](https://dataframes.juliadata.org/stable/lib/types/#DataFrames.DataFrame) are interesting because, in many ways, they act like [Arrays](https://docs.julialang.org/en/v1/base/arrays/), e.g., they can be indexed to access values, and they are [iterable](https://docs.julialang.org/en/v1/base/collections/#lib-collections-iteration), i.e., they can be used in loops. Further, entire columns can be accessed by the column names. \n",
    "\n",
    "For example, suppose we have a [DataFrame](https://dataframes.juliadata.org/stable/lib/types/#DataFrames.DataFrame) stored in a variable `df` that holds demographic data about clients, e.g., names, ages, etc. We can access entire columns (or the data from a collection of columns) by the column name using the syntax `df[! colname]` or with dot notation `df.colname` for a single column:"
   ]
  },
  {
   "cell_type": "code",
   "execution_count": 3,
   "id": "b397bc2d",
   "metadata": {},
   "outputs": [
    {
     "data": {
      "text/html": [
       "<div class=\"data-frame\"><p>3 rows × 2 columns</p><table class=\"data-frame\"><thead><tr><th></th><th>first_name</th><th>state</th></tr><tr><th></th><th title=\"String\">String</th><th title=\"String\">String</th></tr></thead><tbody><tr><th>1</th><td>Rohit</td><td>IN</td></tr><tr><th>2</th><td>Rahul</td><td>CA</td></tr><tr><th>3</th><td>Akshat</td><td>OR</td></tr></tbody></table></div>"
      ],
      "text/latex": [
       "\\begin{tabular}{r|cc}\n",
       "\t& first\\_name & state\\\\\n",
       "\t\\hline\n",
       "\t& String & String\\\\\n",
       "\t\\hline\n",
       "\t1 & Rohit & IN \\\\\n",
       "\t2 & Rahul & CA \\\\\n",
       "\t3 & Akshat & OR \\\\\n",
       "\\end{tabular}\n"
      ],
      "text/plain": [
       "\u001b[1m3×2 DataFrame\u001b[0m\n",
       "\u001b[1m Row \u001b[0m│\u001b[1m first_name \u001b[0m\u001b[1m state  \u001b[0m\n",
       "\u001b[1m     \u001b[0m│\u001b[90m String     \u001b[0m\u001b[90m String \u001b[0m\n",
       "─────┼────────────────────\n",
       "   1 │ Rohit       IN\n",
       "   2 │ Rahul       CA\n",
       "   3 │ Akshat      OR"
      ]
     },
     "execution_count": 3,
     "metadata": {},
     "output_type": "execute_result"
    }
   ],
   "source": [
    "# modified from the DataFrames.jl package documentation\n",
    "# https://dataframes.juliadata.org/stable/man/basics/#First-Steps-with-DataFrames.jl\n",
    "\n",
    "# Load external packages\n",
    "using DataFrames\n",
    "\n",
    "# create a dictionary w/data -> variable dict\n",
    "dict = Dict(\n",
    "  :customer_age => [22, 20, 25], \n",
    "  :first_name => [\"Rohit\", \"Rahul\", \"Akshat\"],\n",
    "  :state => [\"IN\",\"CA\",\"OR\"]\n",
    ");\n",
    "\n",
    "# convert the dictionary to a DataFrame -> variable df\n",
    "df = DataFrame(dict);\n",
    "\n",
    "# get all the values in the first name col -\n",
    "df[!,[:first_name, :state]]"
   ]
  },
  {
   "cell_type": "markdown",
   "id": "17aa0eb6",
   "metadata": {},
   "source": [
    "Finally, [DataFrames](https://dataframes.juliadata.org/stable/lib/types/#DataFrames.DataFrame) can also be used in complex data manipulation operations, e.g., [sorting](https://dataframes.juliadata.org/stable/lib/functions/#Sorting), [filtering](https://dataframes.juliadata.org/stable/lib/functions/#Filtering-rows) or [Join](https://dataframes.juliadata.org/stable/man/joins/) operations.\n",
    "\n",
    "For example, suppose in our customer dataset, we wanted all customers from [Oregon](https://en.wikipedia.org/wiki/Oregon); we can do this with the `filter` function:"
   ]
  },
  {
   "cell_type": "code",
   "execution_count": 4,
   "id": "5b6d3e1d",
   "metadata": {},
   "outputs": [
    {
     "data": {
      "text/html": [
       "<div class=\"data-frame\"><p>1 rows × 3 columns</p><table class=\"data-frame\"><thead><tr><th></th><th>customer_age</th><th>first_name</th><th>state</th></tr><tr><th></th><th title=\"Int64\">Int64</th><th title=\"String\">String</th><th title=\"String\">String</th></tr></thead><tbody><tr><th>1</th><td>25</td><td>Akshat</td><td>OR</td></tr></tbody></table></div>"
      ],
      "text/latex": [
       "\\begin{tabular}{r|ccc}\n",
       "\t& customer\\_age & first\\_name & state\\\\\n",
       "\t\\hline\n",
       "\t& Int64 & String & String\\\\\n",
       "\t\\hline\n",
       "\t1 & 25 & Akshat & OR \\\\\n",
       "\\end{tabular}\n"
      ],
      "text/plain": [
       "\u001b[1m1×3 DataFrame\u001b[0m\n",
       "\u001b[1m Row \u001b[0m│\u001b[1m customer_age \u001b[0m\u001b[1m first_name \u001b[0m\u001b[1m state  \u001b[0m\n",
       "\u001b[1m     \u001b[0m│\u001b[90m Int64        \u001b[0m\u001b[90m String     \u001b[0m\u001b[90m String \u001b[0m\n",
       "─────┼──────────────────────────────────\n",
       "   1 │           25  Akshat      OR"
      ]
     },
     "execution_count": 4,
     "metadata": {},
     "output_type": "execute_result"
    }
   ],
   "source": [
    "# modified from the DataFrames.jl package documentation\n",
    "# https://dataframes.juliadata.org/stable/man/basics/#First-Steps-with-DataFrames.jl\n",
    "\n",
    "# Load external packages\n",
    "using DataFrames\n",
    "\n",
    "# create a dictionary w/data -> variable dict\n",
    "dict = Dict(\n",
    "  :customer_age => [22, 20, 25], \n",
    "  :first_name => [\"Rohit\", \"Rahul\", \"Akshat\"],\n",
    "  :state => [\"IN\",\"CA\",\"OR\"]\n",
    ");\n",
    "\n",
    "# convert the dictionary to a DataFrame -> variable df\n",
    "df = DataFrame(dict);\n",
    "\n",
    "# get all customers from OR\n",
    "OR_customers = filter(:state=>x->x==\"OR\", df)"
   ]
  },
  {
   "cell_type": "markdown",
   "id": "c554fc66",
   "metadata": {},
   "source": [
    "There is a large variety of [data wrangling](https://online.hbs.edu/blog/post/data-wrangling) functions published by the [DataFrame.jl](https://github.com/JuliaData/DataFrames.jl) package, please review the [Getting started](https://dataframes.juliadata.org/stable/man/getting_started/) section of the [DataFrame.jl](https://github.com/JuliaData/DataFrames.jl) documentation for more information.\n",
    "\n",
    "### Reading and writing DataFrames\n",
    "While it's easy to create a [DataFrame](https://dataframes.juliadata.org/stable/lib/types/#DataFrames.DataFrame), e.g., from a [Dictionary](https://docs.julialang.org/en/v1/base/collections/#Dictionaries), we are also often interested in applications that require reading and writing of data files from disk. \n",
    "\n",
    "Converting data files e.g., a table of numerical values, into a [DataFrame](https://dataframes.juliadata.org/stable/lib/types/#DataFrames.DataFrame) object, (or exporting a [DataFrame](https://dataframes.juliadata.org/stable/lib/types/#DataFrames.DataFrame) object to a file) can be done with the [CSV.jl](https://github.com/JuliaData/CSV.jl) package described above. \n",
    "\n",
    "#### Loading a CSV file into a DataFrame\n",
    "Suppose we have a CSV file which holds numerical data, e.g., stock price values for the firm with ticker symbol `XYZ`. We can load this file from disk, and automatically convert the data to a [DataFrame](https://dataframes.juliadata.org/stable/lib/types/#DataFrames.DataFrame) using the `read` method in the [CSV.jl](https://github.com/JuliaData/CSV.jl) package:"
   ]
  },
  {
   "cell_type": "code",
   "execution_count": 5,
   "id": "35a80ccb",
   "metadata": {},
   "outputs": [
    {
     "data": {
      "text/html": [
       "<div class=\"data-frame\"><p>4 rows × 8 columns</p><table class=\"data-frame\"><thead><tr><th></th><th>volume</th><th>vwap</th><th>open</th><th>close</th><th>high</th><th>low</th><th>timestamp</th><th>n</th></tr><tr><th></th><th title=\"Float64\">Float64</th><th title=\"Float64\">Float64</th><th title=\"Float64\">Float64</th><th title=\"Float64\">Float64</th><th title=\"Float64\">Float64</th><th title=\"Float64\">Float64</th><th title=\"Dates.DateTime\">DateTime</th><th title=\"Int64\">Int64</th></tr></thead><tbody><tr><th>1</th><td>1.44524e8</td><td>88.7007</td><td>92.865</td><td>86.36</td><td>93.74</td><td>85.38</td><td>2022-05-09T04:00:00</td><td>901147</td></tr><tr><th>2</th><td>1.37235e8</td><td>88.0634</td><td>89.18</td><td>88.73</td><td>90.7721</td><td>85.41</td><td>2022-05-10T04:00:00</td><td>735895</td></tr><tr><th>3</th><td>1.36138e8</td><td>90.3059</td><td>87.84</td><td>87.92</td><td>93.46</td><td>86.53</td><td>2022-05-11T04:00:00</td><td>859974</td></tr><tr><th>4</th><td>1.29214e8</td><td>85.6857</td><td>86.6</td><td>87.06</td><td>88.55</td><td>83.27</td><td>2022-05-12T04:00:00</td><td>882934</td></tr></tbody></table></div>"
      ],
      "text/latex": [
       "\\begin{tabular}{r|cccccccc}\n",
       "\t& volume & vwap & open & close & high & low & timestamp & n\\\\\n",
       "\t\\hline\n",
       "\t& Float64 & Float64 & Float64 & Float64 & Float64 & Float64 & DateTime & Int64\\\\\n",
       "\t\\hline\n",
       "\t1 & 1.44524e8 & 88.7007 & 92.865 & 86.36 & 93.74 & 85.38 & 2022-05-09T04:00:00 & 901147 \\\\\n",
       "\t2 & 1.37235e8 & 88.0634 & 89.18 & 88.73 & 90.7721 & 85.41 & 2022-05-10T04:00:00 & 735895 \\\\\n",
       "\t3 & 1.36138e8 & 90.3059 & 87.84 & 87.92 & 93.46 & 86.53 & 2022-05-11T04:00:00 & 859974 \\\\\n",
       "\t4 & 1.29214e8 & 85.6857 & 86.6 & 87.06 & 88.55 & 83.27 & 2022-05-12T04:00:00 & 882934 \\\\\n",
       "\\end{tabular}\n"
      ],
      "text/plain": [
       "\u001b[1m4×8 DataFrame\u001b[0m\n",
       "\u001b[1m Row \u001b[0m│\u001b[1m volume    \u001b[0m\u001b[1m vwap    \u001b[0m\u001b[1m open    \u001b[0m\u001b[1m close   \u001b[0m\u001b[1m high    \u001b[0m\u001b[1m low     \u001b[0m\u001b[1m timestamp      \u001b[0m ⋯\n",
       "\u001b[1m     \u001b[0m│\u001b[90m Float64   \u001b[0m\u001b[90m Float64 \u001b[0m\u001b[90m Float64 \u001b[0m\u001b[90m Float64 \u001b[0m\u001b[90m Float64 \u001b[0m\u001b[90m Float64 \u001b[0m\u001b[90m DateTime       \u001b[0m ⋯\n",
       "─────┼──────────────────────────────────────────────────────────────────────────\n",
       "   1 │ 1.44524e8  88.7007   92.865    86.36  93.74      85.38  2022-05-09T04:0 ⋯\n",
       "   2 │ 1.37235e8  88.0634   89.18     88.73  90.7721    85.41  2022-05-10T04:0\n",
       "   3 │ 1.36138e8  90.3059   87.84     87.92  93.46      86.53  2022-05-11T04:0\n",
       "   4 │ 1.29214e8  85.6857   86.6      87.06  88.55      83.27  2022-05-12T04:0\n",
       "\u001b[36m                                                               2 columns omitted\u001b[0m"
      ]
     },
     "execution_count": 5,
     "metadata": {},
     "output_type": "execute_result"
    }
   ],
   "source": [
    "# Load external packages\n",
    "using CSV\n",
    "using DataFrames\n",
    "\n",
    "# setup the path to the data file -\n",
    "path_to_datafile = joinpath(pwd(),\"data\", \"AMD-OCHL-from-05-07-22-to-2022-08-05.csv\")\n",
    "\n",
    "# load the CSV file into a DataFrame -> df\n",
    "df = CSV.read(path_to_datafile, DataFrame)\n",
    "\n",
    "# show the first few rows of data \n",
    "df[1:4,:] # Indexing allows DataFrames to behave like arrays "
   ]
  },
  {
   "cell_type": "markdown",
   "id": "7788ae80",
   "metadata": {},
   "source": [
    "#### Saving a DataFrame to a CSV file\n",
    "Conversely, suppose we have a [DataFrame](https://dataframes.juliadata.org/stable/lib/types/#DataFrames.DataFrame) holding numerical data want to save. In this case, we can take advantage of the `save` methods published by the [CSV.jl](https://github.com/JuliaData/CSV.jl) package; `save` takes two arguments, the first is the path to the file we want to save, and the second is the [DataFrame](https://dataframes.juliadata.org/stable/lib/types/#DataFrames.DataFrame) instance that we want to save. \n",
    "\n",
    "For example, assume we have a variable of type [DataFrame](https://dataframes.juliadata.org/stable/lib/types/#DataFrames.DataFrame) named `df`, then the following code snippet shows how we could save `df` to a CSV file:\n",
    "\n",
    "```{code-block} julia\n",
    "# Load external packages \n",
    "using CSV\n",
    "using DataFrames\n",
    "\n",
    "# some mythical process generates the DataFrame df\n",
    "df = ...\n",
    "\n",
    "# Dump df to disk as a CSV file \n",
    "path_to_csv_file = ...\n",
    "\n",
    "# write out the file \n",
    "CSV.write(path_to_csv_file, df)\n",
    "```\n",
    "\n",
    "(content:references:julia-binary-formats)=\n",
    "## Binary file formats\n",
    "Binary file formats have been developed to store and organize large amounts of complex structured data. The basis of many binary formats is the [Hierarchical Data Format (HDF)](https://en.wikipedia.org/wiki/Hierarchical_Data_Format), a set of file formats initially developed by the [U.S. National Center for Supercomputing Applications (NCSA)](https://en.wikipedia.org/wiki/National_Center_for_Supercomputing_Applications). \n",
    "\n",
    "The [JLD2.jl](https://github.com/JuliaIO/JLD2.jl) package saves and loads [Julia](https://julialang.org) data structures in a format that is a subset of [HDF5](https://en.wikipedia.org/wiki/Hierarchical_Data_Format#HDF5), the latest iteration of the [Hierarchical Data Format (HDF)](https://en.wikipedia.org/wiki/Hierarchical_Data_Format). \n",
    "\n",
    "The [JLD2.jl](https://github.com/JuliaIO/JLD2.jl) package can be downloaded and installed using the [Julia package manager](./julia-basics.md). To load the `JLD2` package into your program, or the [REPL](./julia-basics.md), issue the [using](https://docs.julialang.org/en/v1/base/base/#using) or [import](https://docs.julialang.org/en/v1/base/base/#import) commands. Once the `JLD2`  package is loaded, it publishes several commands to load and save data in the [HDF5](https://en.wikipedia.org/wiki/Hierarchical_Data_Format#HDF5) format. Let's look at the {ref}`content:references:julia-binary-formats-save` and {ref}`content:references:julia-binary-formats-load` functions.\n",
    "\n",
    "(content:references:julia-binary-formats-save)=\n",
    "### save\n",
    "\n",
    "Consider an example of saving a `JLD2` file; in this example, we downloaded stock price data for several firms from an external application programming interface (API) and saved this dataset as a [Dictionary](https://docs.julialang.org/en/v1/base/collections/#Dictionaries). The price history for each firm is stored in a [DataFrame](https://dataframes.juliadata.org/stable/lib/types/#DataFrames.DataFrame), while the overall dataset for N = 25 firms is stored as a [Dictionary](https://docs.julialang.org/en/v1/base/collections/#Dictionaries) where the ticker symbol for firm `XYZ` (of type [String](https://docs.julialang.org/en/v1/base/strings/#lib-strings)) is used as the [Dictionary](https://docs.julialang.org/en/v1/base/collections/#Dictionaries) key.\n",
    "\n",
    "The `save` function accepts a path and an `AbstractDict` holding the key/value pairs that we wish to save, where the key is a string representing the name of the dataset and the value is its contents:\n",
    "\n",
    "```{code-block} julia\n",
    "# load external packages\n",
    "using DataFrames\n",
    "using JLD2\n",
    "using FileIO\n",
    "\n",
    "# external process to download data (not shown)\n",
    "dd = api({arguments}); # dd -> Dict{String,DataFrame}\n",
    "\n",
    "# path to data file \n",
    "filename = \"Portfolio-Data-06-20-22.jld2\"\n",
    "\n",
    "# save\n",
    "save(\"Portfolio-Data-06-20-22.jld2\", Dict(\"dd\" => dd)); # saved dd in Dict with key dd\n",
    "```\n",
    "(content:references:julia-binary-formats-load)=\n",
    "### load\n",
    "\n",
    "Consider an example of loading a `JLD2` file; in this example, a [Dictionary](https://docs.julialang.org/en/v1/base/collections/#Dictionaries) holding stock market data is loaded from disk. In particular, the price data for each of N = 25 firms is stored in a [DataFrame](https://dataframes.juliadata.org/stable/lib/types/#DataFrames.DataFrame), where the ticker symbol for each firm `XYZ` is used as the [Dictionary](https://docs.julialang.org/en/v1/base/collections/#Dictionaries) key; the ticker symbol `XYZ` is of type [String](https://docs.julialang.org/en/v1/base/strings/#lib-strings). Thus, the loaded [Dictionary](https://docs.julialang.org/en/v1/base/collections/#Dictionaries) is of type `Dict{String,DataFrame}`.\n",
    "\n",
    "The `load` function reads a `*.jld2` file from the disk. When called with a path argument only, the `load` function loads the dataset from the given file into a [Dictionary](https://docs.julialang.org/en/v1/base/collections/#Dictionaries):\n",
    "\n",
    "```{code-block} julia\n",
    "# load external packages\n",
    "using DataFrames\n",
    "using JLD2\n",
    "using FileIO\n",
    "\n",
    "# set path to the data file\n",
    "# joinpath is cross platform: handles / vs \\\n",
    "path_to_data_file = joinpath(\".\", \"data\", \"Portfolio-Data-06-20-22.jld2\")\n",
    "\n",
    "# load the dataset: the original data is stored in a Dict with key `dd`\n",
    "dd = load(path_to_data_file)[\"dd\"] # dd -> Dict{String,DataFrame}\n",
    "```\n",
    "\n",
    "Taken together, the [JLD2.jl](https://github.com/JuliaIO/JLD2.jl) package provides tools to directly persist (and load) complex hierarchical data structures, which go well beyond just numerical data. For more information, please see the [JLD2.jl package documentation](https://github.com/JuliaIO/JLD2.jl).\n",
    "\n",
    "---\n",
    "\n",
    "## Summary\n",
    "\n",
    "In this chpater we:\n",
    "* Introduced reading and writing {ref}`content:references:julia-csv-files`, a standard data format for working with numerical data files\n",
    "* Introduced more expressive tools such as {ref}`content:references:julia-dataframes`, which are in-memory tabular data structures. `DataFrames` are highly flexible data structures offering many advanced storage and query capabilities. \n",
    "* Introduced reading and writing data in {ref}`content:references:julia-binary-formats`, a common approach for large data files and more complex data structures"
   ]
  }
 ],
 "metadata": {
  "jupytext": {
   "formats": "md:myst",
   "text_representation": {
    "extension": ".md",
    "format_name": "myst"
   }
  },
  "kernelspec": {
   "display_name": "Julia",
   "language": "julia",
   "name": "julia-1.8"
  },
  "language_info": {
   "file_extension": ".jl",
   "mimetype": "application/julia",
   "name": "julia",
   "version": "1.8.1"
  },
  "source_map": [
   11,
   47,
   56,
   60,
   76,
   85,
   104,
   110,
   129,
   141,
   154
  ]
 },
 "nbformat": 4,
 "nbformat_minor": 5
}