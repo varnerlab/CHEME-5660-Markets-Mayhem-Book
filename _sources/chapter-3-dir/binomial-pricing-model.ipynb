{
 "cells": [
  {
   "cell_type": "markdown",
   "id": "9ceecc00",
   "metadata": {},
   "source": [
    "# Example: Calculating the Price of an AMD put option"
   ]
  },
  {
   "cell_type": "code",
   "execution_count": null,
   "id": "6a8b4e40",
   "metadata": {},
   "outputs": [],
   "source": []
  }
 ],
 "metadata": {
  "kernelspec": {
   "display_name": "Julia 1.7.2",
   "language": "julia",
   "name": "julia-1.7"
  },
  "language_info": {
   "file_extension": ".jl",
   "mimetype": "application/julia",
   "name": "julia",
   "version": "1.7.2"
  }
 },
 "nbformat": 4,
 "nbformat_minor": 5
}
